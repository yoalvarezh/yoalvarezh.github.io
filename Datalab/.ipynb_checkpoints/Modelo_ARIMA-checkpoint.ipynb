{
 "cells": [
  {
   "cell_type": "code",
   "execution_count": 1,
   "metadata": {},
   "outputs": [],
   "source": [
    "import pandas as pd\n",
    "import numpy as np\n",
    "import itertools\n",
    "import seaborn as sns\n",
    "import matplotlib.pyplot as plt\n",
    "%matplotlib inline\n",
    "import plotly.express as px\n",
    "import statsmodels.api as sm\n",
    "from statsmodels.tsa.stattools import adfuller, acf, pacf,arma_order_select_ic\n",
    "from statsmodels.graphics.tsaplots import plot_acf, plot_pacf\n",
    "from statsmodels.tsa.arima_model import ARIMA\n",
    "import warnings\n",
    "warnings.simplefilter('ignore')\n",
    "from random import seed\n",
    "from sklearn.model_selection import train_test_split\n",
    "import datetime as dt\n",
    "from datetime import datetime\n",
    "from datetime import date\n",
    "from pmdarima.arima import auto_arima"
   ]
  },
  {
   "cell_type": "code",
   "execution_count": 2,
   "metadata": {},
   "outputs": [
    {
     "data": {
      "text/html": [
       "<div>\n",
       "<style scoped>\n",
       "    .dataframe tbody tr th:only-of-type {\n",
       "        vertical-align: middle;\n",
       "    }\n",
       "\n",
       "    .dataframe tbody tr th {\n",
       "        vertical-align: top;\n",
       "    }\n",
       "\n",
       "    .dataframe thead th {\n",
       "        text-align: right;\n",
       "    }\n",
       "</style>\n",
       "<table border=\"1\" class=\"dataframe\">\n",
       "  <thead>\n",
       "    <tr style=\"text-align: right;\">\n",
       "      <th></th>\n",
       "      <th>Unnamed: 0</th>\n",
       "      <th>ciudad_de_ubicaci_n</th>\n",
       "      <th>fecha_reporte_web</th>\n",
       "      <th>conteo_confirmados</th>\n",
       "      <th>conteo_recuperado</th>\n",
       "      <th>conteo_fallecidos</th>\n",
       "      <th>casos_activos</th>\n",
       "      <th>acumulado_dia_confirmados</th>\n",
       "      <th>acumulado_dia_recuperado</th>\n",
       "      <th>acumulado_dia_fallecidos</th>\n",
       "      <th>acumulado_dia_activos</th>\n",
       "    </tr>\n",
       "  </thead>\n",
       "  <tbody>\n",
       "    <tr>\n",
       "      <th>0</th>\n",
       "      <td>621</td>\n",
       "      <td>Medellín</td>\n",
       "      <td>2020-03-09</td>\n",
       "      <td>1</td>\n",
       "      <td>1.0</td>\n",
       "      <td>0.0</td>\n",
       "      <td>0.0</td>\n",
       "      <td>1</td>\n",
       "      <td>1.0</td>\n",
       "      <td>0.0</td>\n",
       "      <td>0.0</td>\n",
       "    </tr>\n",
       "    <tr>\n",
       "      <th>1</th>\n",
       "      <td>622</td>\n",
       "      <td>Medellín</td>\n",
       "      <td>2020-03-11</td>\n",
       "      <td>2</td>\n",
       "      <td>2.0</td>\n",
       "      <td>0.0</td>\n",
       "      <td>0.0</td>\n",
       "      <td>3</td>\n",
       "      <td>3.0</td>\n",
       "      <td>0.0</td>\n",
       "      <td>0.0</td>\n",
       "    </tr>\n",
       "    <tr>\n",
       "      <th>2</th>\n",
       "      <td>623</td>\n",
       "      <td>Medellín</td>\n",
       "      <td>2020-03-14</td>\n",
       "      <td>2</td>\n",
       "      <td>2.0</td>\n",
       "      <td>0.0</td>\n",
       "      <td>0.0</td>\n",
       "      <td>5</td>\n",
       "      <td>5.0</td>\n",
       "      <td>0.0</td>\n",
       "      <td>0.0</td>\n",
       "    </tr>\n",
       "    <tr>\n",
       "      <th>3</th>\n",
       "      <td>624</td>\n",
       "      <td>Medellín</td>\n",
       "      <td>2020-03-15</td>\n",
       "      <td>1</td>\n",
       "      <td>1.0</td>\n",
       "      <td>0.0</td>\n",
       "      <td>0.0</td>\n",
       "      <td>6</td>\n",
       "      <td>6.0</td>\n",
       "      <td>0.0</td>\n",
       "      <td>0.0</td>\n",
       "    </tr>\n",
       "    <tr>\n",
       "      <th>4</th>\n",
       "      <td>625</td>\n",
       "      <td>Medellín</td>\n",
       "      <td>2020-03-19</td>\n",
       "      <td>3</td>\n",
       "      <td>3.0</td>\n",
       "      <td>0.0</td>\n",
       "      <td>0.0</td>\n",
       "      <td>9</td>\n",
       "      <td>9.0</td>\n",
       "      <td>0.0</td>\n",
       "      <td>0.0</td>\n",
       "    </tr>\n",
       "    <tr>\n",
       "      <th>...</th>\n",
       "      <td>...</td>\n",
       "      <td>...</td>\n",
       "      <td>...</td>\n",
       "      <td>...</td>\n",
       "      <td>...</td>\n",
       "      <td>...</td>\n",
       "      <td>...</td>\n",
       "      <td>...</td>\n",
       "      <td>...</td>\n",
       "      <td>...</td>\n",
       "      <td>...</td>\n",
       "    </tr>\n",
       "    <tr>\n",
       "      <th>771</th>\n",
       "      <td>144</td>\n",
       "      <td>Barranquilla</td>\n",
       "      <td>2020-08-16</td>\n",
       "      <td>175</td>\n",
       "      <td>6.0</td>\n",
       "      <td>2.0</td>\n",
       "      <td>167.0</td>\n",
       "      <td>34215</td>\n",
       "      <td>30476.0</td>\n",
       "      <td>1587.0</td>\n",
       "      <td>2152.0</td>\n",
       "    </tr>\n",
       "    <tr>\n",
       "      <th>772</th>\n",
       "      <td>145</td>\n",
       "      <td>Barranquilla</td>\n",
       "      <td>2020-08-17</td>\n",
       "      <td>97</td>\n",
       "      <td>1.0</td>\n",
       "      <td>1.0</td>\n",
       "      <td>95.0</td>\n",
       "      <td>34312</td>\n",
       "      <td>30477.0</td>\n",
       "      <td>1588.0</td>\n",
       "      <td>2247.0</td>\n",
       "    </tr>\n",
       "    <tr>\n",
       "      <th>773</th>\n",
       "      <td>146</td>\n",
       "      <td>Barranquilla</td>\n",
       "      <td>2020-08-18</td>\n",
       "      <td>209</td>\n",
       "      <td>11.0</td>\n",
       "      <td>0.0</td>\n",
       "      <td>198.0</td>\n",
       "      <td>34521</td>\n",
       "      <td>30488.0</td>\n",
       "      <td>1588.0</td>\n",
       "      <td>2445.0</td>\n",
       "    </tr>\n",
       "    <tr>\n",
       "      <th>774</th>\n",
       "      <td>147</td>\n",
       "      <td>Barranquilla</td>\n",
       "      <td>2020-08-19</td>\n",
       "      <td>348</td>\n",
       "      <td>0.0</td>\n",
       "      <td>0.0</td>\n",
       "      <td>348.0</td>\n",
       "      <td>34869</td>\n",
       "      <td>30488.0</td>\n",
       "      <td>1588.0</td>\n",
       "      <td>2793.0</td>\n",
       "    </tr>\n",
       "    <tr>\n",
       "      <th>775</th>\n",
       "      <td>148</td>\n",
       "      <td>Barranquilla</td>\n",
       "      <td>2020-08-20</td>\n",
       "      <td>165</td>\n",
       "      <td>0.0</td>\n",
       "      <td>0.0</td>\n",
       "      <td>165.0</td>\n",
       "      <td>35034</td>\n",
       "      <td>30488.0</td>\n",
       "      <td>1588.0</td>\n",
       "      <td>2958.0</td>\n",
       "    </tr>\n",
       "  </tbody>\n",
       "</table>\n",
       "<p>776 rows × 11 columns</p>\n",
       "</div>"
      ],
      "text/plain": [
       "     Unnamed: 0 ciudad_de_ubicaci_n fecha_reporte_web  conteo_confirmados  \\\n",
       "0           621            Medellín        2020-03-09                   1   \n",
       "1           622            Medellín        2020-03-11                   2   \n",
       "2           623            Medellín        2020-03-14                   2   \n",
       "3           624            Medellín        2020-03-15                   1   \n",
       "4           625            Medellín        2020-03-19                   3   \n",
       "..          ...                 ...               ...                 ...   \n",
       "771         144        Barranquilla        2020-08-16                 175   \n",
       "772         145        Barranquilla        2020-08-17                  97   \n",
       "773         146        Barranquilla        2020-08-18                 209   \n",
       "774         147        Barranquilla        2020-08-19                 348   \n",
       "775         148        Barranquilla        2020-08-20                 165   \n",
       "\n",
       "     conteo_recuperado  conteo_fallecidos  casos_activos  \\\n",
       "0                  1.0                0.0            0.0   \n",
       "1                  2.0                0.0            0.0   \n",
       "2                  2.0                0.0            0.0   \n",
       "3                  1.0                0.0            0.0   \n",
       "4                  3.0                0.0            0.0   \n",
       "..                 ...                ...            ...   \n",
       "771                6.0                2.0          167.0   \n",
       "772                1.0                1.0           95.0   \n",
       "773               11.0                0.0          198.0   \n",
       "774                0.0                0.0          348.0   \n",
       "775                0.0                0.0          165.0   \n",
       "\n",
       "     acumulado_dia_confirmados  acumulado_dia_recuperado  \\\n",
       "0                            1                       1.0   \n",
       "1                            3                       3.0   \n",
       "2                            5                       5.0   \n",
       "3                            6                       6.0   \n",
       "4                            9                       9.0   \n",
       "..                         ...                       ...   \n",
       "771                      34215                   30476.0   \n",
       "772                      34312                   30477.0   \n",
       "773                      34521                   30488.0   \n",
       "774                      34869                   30488.0   \n",
       "775                      35034                   30488.0   \n",
       "\n",
       "     acumulado_dia_fallecidos  acumulado_dia_activos  \n",
       "0                         0.0                    0.0  \n",
       "1                         0.0                    0.0  \n",
       "2                         0.0                    0.0  \n",
       "3                         0.0                    0.0  \n",
       "4                         0.0                    0.0  \n",
       "..                        ...                    ...  \n",
       "771                    1587.0                 2152.0  \n",
       "772                    1588.0                 2247.0  \n",
       "773                    1588.0                 2445.0  \n",
       "774                    1588.0                 2793.0  \n",
       "775                    1588.0                 2958.0  \n",
       "\n",
       "[776 rows x 11 columns]"
      ]
     },
     "execution_count": 2,
     "metadata": {},
     "output_type": "execute_result"
    }
   ],
   "source": [
    "data = pd.read_csv(\"../Datos/data_final.csv\", sep = ',') ## Cargue datos\n",
    "data"
   ]
  },
  {
   "cell_type": "markdown",
   "metadata": {},
   "source": [
    "A continuación se presentan los pronósticos para las cinco ciudades principales de Colombia para los casos activos, casos confirmados, casos recuperados y casos fallecidos, frente a la evolución de la pandemia de COVID-19, con la finalidad de evaluar el comportamiento de este virus en las personas."
   ]
  },
  {
   "cell_type": "markdown",
   "metadata": {},
   "source": [
    "## **Ciudad Medellín**"
   ]
  },
  {
   "cell_type": "markdown",
   "metadata": {},
   "source": [
    "### **Casos Activos**"
   ]
  },
  {
   "cell_type": "code",
   "execution_count": 3,
   "metadata": {},
   "outputs": [
    {
     "data": {
      "text/html": [
       "<div>\n",
       "<style scoped>\n",
       "    .dataframe tbody tr th:only-of-type {\n",
       "        vertical-align: middle;\n",
       "    }\n",
       "\n",
       "    .dataframe tbody tr th {\n",
       "        vertical-align: top;\n",
       "    }\n",
       "\n",
       "    .dataframe thead th {\n",
       "        text-align: right;\n",
       "    }\n",
       "</style>\n",
       "<table border=\"1\" class=\"dataframe\">\n",
       "  <thead>\n",
       "    <tr style=\"text-align: right;\">\n",
       "      <th></th>\n",
       "      <th>Unnamed: 0</th>\n",
       "      <th>ciudad_de_ubicaci_n</th>\n",
       "      <th>fecha_reporte_web</th>\n",
       "      <th>conteo_confirmados</th>\n",
       "      <th>conteo_recuperado</th>\n",
       "      <th>conteo_fallecidos</th>\n",
       "      <th>casos_activos</th>\n",
       "      <th>acumulado_dia_confirmados</th>\n",
       "      <th>acumulado_dia_recuperado</th>\n",
       "      <th>acumulado_dia_fallecidos</th>\n",
       "      <th>acumulado_dia_activos</th>\n",
       "    </tr>\n",
       "  </thead>\n",
       "  <tbody>\n",
       "    <tr>\n",
       "      <th>0</th>\n",
       "      <td>621</td>\n",
       "      <td>Medellín</td>\n",
       "      <td>2020-03-09</td>\n",
       "      <td>1</td>\n",
       "      <td>1.0</td>\n",
       "      <td>0.0</td>\n",
       "      <td>0.0</td>\n",
       "      <td>1</td>\n",
       "      <td>1.0</td>\n",
       "      <td>0.0</td>\n",
       "      <td>0.0</td>\n",
       "    </tr>\n",
       "    <tr>\n",
       "      <th>1</th>\n",
       "      <td>622</td>\n",
       "      <td>Medellín</td>\n",
       "      <td>2020-03-11</td>\n",
       "      <td>2</td>\n",
       "      <td>2.0</td>\n",
       "      <td>0.0</td>\n",
       "      <td>0.0</td>\n",
       "      <td>3</td>\n",
       "      <td>3.0</td>\n",
       "      <td>0.0</td>\n",
       "      <td>0.0</td>\n",
       "    </tr>\n",
       "    <tr>\n",
       "      <th>2</th>\n",
       "      <td>623</td>\n",
       "      <td>Medellín</td>\n",
       "      <td>2020-03-14</td>\n",
       "      <td>2</td>\n",
       "      <td>2.0</td>\n",
       "      <td>0.0</td>\n",
       "      <td>0.0</td>\n",
       "      <td>5</td>\n",
       "      <td>5.0</td>\n",
       "      <td>0.0</td>\n",
       "      <td>0.0</td>\n",
       "    </tr>\n",
       "    <tr>\n",
       "      <th>3</th>\n",
       "      <td>624</td>\n",
       "      <td>Medellín</td>\n",
       "      <td>2020-03-15</td>\n",
       "      <td>1</td>\n",
       "      <td>1.0</td>\n",
       "      <td>0.0</td>\n",
       "      <td>0.0</td>\n",
       "      <td>6</td>\n",
       "      <td>6.0</td>\n",
       "      <td>0.0</td>\n",
       "      <td>0.0</td>\n",
       "    </tr>\n",
       "    <tr>\n",
       "      <th>4</th>\n",
       "      <td>625</td>\n",
       "      <td>Medellín</td>\n",
       "      <td>2020-03-19</td>\n",
       "      <td>3</td>\n",
       "      <td>3.0</td>\n",
       "      <td>0.0</td>\n",
       "      <td>0.0</td>\n",
       "      <td>9</td>\n",
       "      <td>9.0</td>\n",
       "      <td>0.0</td>\n",
       "      <td>0.0</td>\n",
       "    </tr>\n",
       "    <tr>\n",
       "      <th>...</th>\n",
       "      <td>...</td>\n",
       "      <td>...</td>\n",
       "      <td>...</td>\n",
       "      <td>...</td>\n",
       "      <td>...</td>\n",
       "      <td>...</td>\n",
       "      <td>...</td>\n",
       "      <td>...</td>\n",
       "      <td>...</td>\n",
       "      <td>...</td>\n",
       "      <td>...</td>\n",
       "    </tr>\n",
       "    <tr>\n",
       "      <th>150</th>\n",
       "      <td>771</td>\n",
       "      <td>Medellín</td>\n",
       "      <td>2020-08-16</td>\n",
       "      <td>864</td>\n",
       "      <td>4.0</td>\n",
       "      <td>11.0</td>\n",
       "      <td>849.0</td>\n",
       "      <td>35432</td>\n",
       "      <td>25557.0</td>\n",
       "      <td>690.0</td>\n",
       "      <td>9185.0</td>\n",
       "    </tr>\n",
       "    <tr>\n",
       "      <th>151</th>\n",
       "      <td>772</td>\n",
       "      <td>Medellín</td>\n",
       "      <td>2020-08-17</td>\n",
       "      <td>614</td>\n",
       "      <td>1.0</td>\n",
       "      <td>4.0</td>\n",
       "      <td>609.0</td>\n",
       "      <td>36046</td>\n",
       "      <td>25558.0</td>\n",
       "      <td>694.0</td>\n",
       "      <td>9794.0</td>\n",
       "    </tr>\n",
       "    <tr>\n",
       "      <th>152</th>\n",
       "      <td>773</td>\n",
       "      <td>Medellín</td>\n",
       "      <td>2020-08-18</td>\n",
       "      <td>901</td>\n",
       "      <td>9.0</td>\n",
       "      <td>0.0</td>\n",
       "      <td>892.0</td>\n",
       "      <td>36947</td>\n",
       "      <td>25567.0</td>\n",
       "      <td>694.0</td>\n",
       "      <td>10686.0</td>\n",
       "    </tr>\n",
       "    <tr>\n",
       "      <th>153</th>\n",
       "      <td>774</td>\n",
       "      <td>Medellín</td>\n",
       "      <td>2020-08-19</td>\n",
       "      <td>972</td>\n",
       "      <td>0.0</td>\n",
       "      <td>0.0</td>\n",
       "      <td>972.0</td>\n",
       "      <td>37919</td>\n",
       "      <td>25567.0</td>\n",
       "      <td>694.0</td>\n",
       "      <td>11658.0</td>\n",
       "    </tr>\n",
       "    <tr>\n",
       "      <th>154</th>\n",
       "      <td>775</td>\n",
       "      <td>Medellín</td>\n",
       "      <td>2020-08-20</td>\n",
       "      <td>419</td>\n",
       "      <td>0.0</td>\n",
       "      <td>0.0</td>\n",
       "      <td>419.0</td>\n",
       "      <td>38338</td>\n",
       "      <td>25567.0</td>\n",
       "      <td>694.0</td>\n",
       "      <td>12077.0</td>\n",
       "    </tr>\n",
       "  </tbody>\n",
       "</table>\n",
       "<p>155 rows × 11 columns</p>\n",
       "</div>"
      ],
      "text/plain": [
       "     Unnamed: 0 ciudad_de_ubicaci_n fecha_reporte_web  conteo_confirmados  \\\n",
       "0           621            Medellín        2020-03-09                   1   \n",
       "1           622            Medellín        2020-03-11                   2   \n",
       "2           623            Medellín        2020-03-14                   2   \n",
       "3           624            Medellín        2020-03-15                   1   \n",
       "4           625            Medellín        2020-03-19                   3   \n",
       "..          ...                 ...               ...                 ...   \n",
       "150         771            Medellín        2020-08-16                 864   \n",
       "151         772            Medellín        2020-08-17                 614   \n",
       "152         773            Medellín        2020-08-18                 901   \n",
       "153         774            Medellín        2020-08-19                 972   \n",
       "154         775            Medellín        2020-08-20                 419   \n",
       "\n",
       "     conteo_recuperado  conteo_fallecidos  casos_activos  \\\n",
       "0                  1.0                0.0            0.0   \n",
       "1                  2.0                0.0            0.0   \n",
       "2                  2.0                0.0            0.0   \n",
       "3                  1.0                0.0            0.0   \n",
       "4                  3.0                0.0            0.0   \n",
       "..                 ...                ...            ...   \n",
       "150                4.0               11.0          849.0   \n",
       "151                1.0                4.0          609.0   \n",
       "152                9.0                0.0          892.0   \n",
       "153                0.0                0.0          972.0   \n",
       "154                0.0                0.0          419.0   \n",
       "\n",
       "     acumulado_dia_confirmados  acumulado_dia_recuperado  \\\n",
       "0                            1                       1.0   \n",
       "1                            3                       3.0   \n",
       "2                            5                       5.0   \n",
       "3                            6                       6.0   \n",
       "4                            9                       9.0   \n",
       "..                         ...                       ...   \n",
       "150                      35432                   25557.0   \n",
       "151                      36046                   25558.0   \n",
       "152                      36947                   25567.0   \n",
       "153                      37919                   25567.0   \n",
       "154                      38338                   25567.0   \n",
       "\n",
       "     acumulado_dia_fallecidos  acumulado_dia_activos  \n",
       "0                         0.0                    0.0  \n",
       "1                         0.0                    0.0  \n",
       "2                         0.0                    0.0  \n",
       "3                         0.0                    0.0  \n",
       "4                         0.0                    0.0  \n",
       "..                        ...                    ...  \n",
       "150                     690.0                 9185.0  \n",
       "151                     694.0                 9794.0  \n",
       "152                     694.0                10686.0  \n",
       "153                     694.0                11658.0  \n",
       "154                     694.0                12077.0  \n",
       "\n",
       "[155 rows x 11 columns]"
      ]
     },
     "execution_count": 3,
     "metadata": {},
     "output_type": "execute_result"
    }
   ],
   "source": [
    "data_med = data[data['ciudad_de_ubicaci_n']=='Medellín']\n",
    "data_med"
   ]
  },
  {
   "cell_type": "code",
   "execution_count": 4,
   "metadata": {},
   "outputs": [
    {
     "data": {
      "text/html": [
       "<div>\n",
       "<style scoped>\n",
       "    .dataframe tbody tr th:only-of-type {\n",
       "        vertical-align: middle;\n",
       "    }\n",
       "\n",
       "    .dataframe tbody tr th {\n",
       "        vertical-align: top;\n",
       "    }\n",
       "\n",
       "    .dataframe thead th {\n",
       "        text-align: right;\n",
       "    }\n",
       "</style>\n",
       "<table border=\"1\" class=\"dataframe\">\n",
       "  <thead>\n",
       "    <tr style=\"text-align: right;\">\n",
       "      <th></th>\n",
       "      <th>fecha_reporte_web</th>\n",
       "      <th>casos_activos</th>\n",
       "    </tr>\n",
       "  </thead>\n",
       "  <tbody>\n",
       "    <tr>\n",
       "      <th>0</th>\n",
       "      <td>2020-03-09</td>\n",
       "      <td>0.0</td>\n",
       "    </tr>\n",
       "    <tr>\n",
       "      <th>1</th>\n",
       "      <td>2020-03-11</td>\n",
       "      <td>0.0</td>\n",
       "    </tr>\n",
       "    <tr>\n",
       "      <th>2</th>\n",
       "      <td>2020-03-14</td>\n",
       "      <td>0.0</td>\n",
       "    </tr>\n",
       "    <tr>\n",
       "      <th>3</th>\n",
       "      <td>2020-03-15</td>\n",
       "      <td>0.0</td>\n",
       "    </tr>\n",
       "    <tr>\n",
       "      <th>4</th>\n",
       "      <td>2020-03-19</td>\n",
       "      <td>0.0</td>\n",
       "    </tr>\n",
       "    <tr>\n",
       "      <th>...</th>\n",
       "      <td>...</td>\n",
       "      <td>...</td>\n",
       "    </tr>\n",
       "    <tr>\n",
       "      <th>150</th>\n",
       "      <td>2020-08-16</td>\n",
       "      <td>849.0</td>\n",
       "    </tr>\n",
       "    <tr>\n",
       "      <th>151</th>\n",
       "      <td>2020-08-17</td>\n",
       "      <td>609.0</td>\n",
       "    </tr>\n",
       "    <tr>\n",
       "      <th>152</th>\n",
       "      <td>2020-08-18</td>\n",
       "      <td>892.0</td>\n",
       "    </tr>\n",
       "    <tr>\n",
       "      <th>153</th>\n",
       "      <td>2020-08-19</td>\n",
       "      <td>972.0</td>\n",
       "    </tr>\n",
       "    <tr>\n",
       "      <th>154</th>\n",
       "      <td>2020-08-20</td>\n",
       "      <td>419.0</td>\n",
       "    </tr>\n",
       "  </tbody>\n",
       "</table>\n",
       "<p>155 rows × 2 columns</p>\n",
       "</div>"
      ],
      "text/plain": [
       "    fecha_reporte_web  casos_activos\n",
       "0          2020-03-09            0.0\n",
       "1          2020-03-11            0.0\n",
       "2          2020-03-14            0.0\n",
       "3          2020-03-15            0.0\n",
       "4          2020-03-19            0.0\n",
       "..                ...            ...\n",
       "150        2020-08-16          849.0\n",
       "151        2020-08-17          609.0\n",
       "152        2020-08-18          892.0\n",
       "153        2020-08-19          972.0\n",
       "154        2020-08-20          419.0\n",
       "\n",
       "[155 rows x 2 columns]"
      ]
     },
     "execution_count": 4,
     "metadata": {},
     "output_type": "execute_result"
    }
   ],
   "source": [
    "data_med_activos = data_med[['fecha_reporte_web','casos_activos']]\n",
    "data_med_activos"
   ]
  },
  {
   "cell_type": "code",
   "execution_count": 5,
   "metadata": {},
   "outputs": [],
   "source": [
    "data_med_activos = data_med_activos.set_index('fecha_reporte_web')"
   ]
  },
  {
   "cell_type": "code",
   "execution_count": 6,
   "metadata": {},
   "outputs": [
    {
     "data": {
      "text/plain": [
       "<AxesSubplot:xlabel='fecha_reporte_web'>"
      ]
     },
     "execution_count": 6,
     "metadata": {},
     "output_type": "execute_result"
    },
    {
     "data": {
      "image/png": "[encoded data removed]",
      "text/plain": [
       "<Figure size 432x288 with 1 Axes>"
      ]
     },
     "metadata": {
      "needs_background": "light"
     },
     "output_type": "display_data"
    }
   ],
   "source": [
    "data_med_activos.plot()"
   ]
  },
  {
   "cell_type": "code",
   "execution_count": 7,
   "metadata": {},
   "outputs": [],
   "source": [
    "train_med_activos = data_med_activos[:121]\n",
    "test_med_activos = data_med_activos[122:]"
   ]
  },
  {
   "cell_type": "code",
   "execution_count": 8,
   "metadata": {},
   "outputs": [
    {
     "name": "stdout",
     "output_type": "stream",
     "text": [
      "Performing stepwise search to minimize aic\n",
      " ARIMA(0,1,0)(0,1,0)[7]             : AIC=1711.941, Time=0.02 sec\n",
      " ARIMA(1,1,0)(1,1,0)[7]             : AIC=1701.916, Time=0.08 sec\n",
      " ARIMA(0,1,1)(0,1,1)[7]             : AIC=1687.820, Time=0.10 sec\n",
      " ARIMA(0,1,1)(0,1,0)[7]             : AIC=1712.670, Time=0.04 sec\n",
      " ARIMA(0,1,1)(1,1,1)[7]             : AIC=1689.788, Time=0.30 sec\n",
      " ARIMA(0,1,1)(0,1,2)[7]             : AIC=1689.773, Time=0.36 sec\n",
      " ARIMA(0,1,1)(1,1,0)[7]             : AIC=1701.316, Time=0.09 sec\n",
      " ARIMA(0,1,1)(1,1,2)[7]             : AIC=1691.458, Time=0.86 sec\n",
      " ARIMA(0,1,0)(0,1,1)[7]             : AIC=1690.583, Time=0.07 sec\n",
      " ARIMA(1,1,1)(0,1,1)[7]             : AIC=1689.081, Time=0.23 sec\n",
      " ARIMA(0,1,2)(0,1,1)[7]             : AIC=1679.593, Time=0.23 sec\n",
      " ARIMA(0,1,2)(0,1,0)[7]             : AIC=1695.081, Time=0.07 sec\n",
      " ARIMA(0,1,2)(1,1,1)[7]             : AIC=1681.051, Time=0.58 sec\n",
      " ARIMA(0,1,2)(0,1,2)[7]             : AIC=1680.918, Time=0.48 sec\n",
      " ARIMA(0,1,2)(1,1,0)[7]             : AIC=1686.562, Time=0.10 sec\n",
      " ARIMA(0,1,2)(1,1,2)[7]             : AIC=1682.817, Time=1.03 sec\n",
      " ARIMA(1,1,2)(0,1,1)[7]             : AIC=1677.450, Time=0.28 sec\n",
      " ARIMA(1,1,2)(0,1,0)[7]             : AIC=1696.742, Time=0.08 sec\n",
      " ARIMA(1,1,2)(1,1,1)[7]             : AIC=1679.450, Time=0.41 sec\n",
      " ARIMA(1,1,2)(0,1,2)[7]             : AIC=1679.450, Time=0.92 sec\n",
      " ARIMA(1,1,2)(1,1,0)[7]             : AIC=1686.416, Time=0.13 sec\n",
      " ARIMA(1,1,2)(1,1,2)[7]             : AIC=inf, Time=1.10 sec\n",
      " ARIMA(2,1,2)(0,1,1)[7]             : AIC=inf, Time=0.62 sec\n",
      " ARIMA(1,1,3)(0,1,1)[7]             : AIC=1671.303, Time=0.72 sec\n",
      " ARIMA(1,1,3)(0,1,0)[7]             : AIC=1675.094, Time=0.23 sec\n",
      " ARIMA(1,1,3)(1,1,1)[7]             : AIC=1672.814, Time=0.79 sec\n",
      " ARIMA(1,1,3)(0,1,2)[7]             : AIC=1672.811, Time=1.22 sec\n",
      " ARIMA(1,1,3)(1,1,0)[7]             : AIC=1673.163, Time=0.46 sec\n",
      " ARIMA(1,1,3)(1,1,2)[7]             : AIC=1675.228, Time=1.70 sec\n",
      " ARIMA(0,1,3)(0,1,1)[7]             : AIC=1669.306, Time=0.30 sec\n",
      " ARIMA(0,1,3)(0,1,0)[7]             : AIC=1673.612, Time=0.08 sec\n",
      " ARIMA(0,1,3)(1,1,1)[7]             : AIC=1670.817, Time=0.61 sec\n",
      " ARIMA(0,1,3)(0,1,2)[7]             : AIC=1670.812, Time=0.55 sec\n",
      " ARIMA(0,1,3)(1,1,0)[7]             : AIC=1671.563, Time=0.15 sec\n",
      " ARIMA(0,1,3)(1,1,2)[7]             : AIC=1672.808, Time=1.20 sec\n",
      " ARIMA(0,1,4)(0,1,1)[7]             : AIC=inf, Time=0.44 sec\n",
      " ARIMA(1,1,4)(0,1,1)[7]             : AIC=inf, Time=0.39 sec\n",
      " ARIMA(0,1,3)(0,1,1)[7] intercept   : AIC=1671.303, Time=0.34 sec\n",
      "\n",
      "Best model:  ARIMA(0,1,3)(0,1,1)[7]          \n",
      "Total fit time: 17.368 seconds\n"
     ]
    }
   ],
   "source": [
    "arima_model_med_activos = auto_arima(data_med_activos, start_p=0, d=1, start_q=0, max_p=5, max_d=5,max_q=5, start_P=0, D=1, start_Q=0, max_P=5, max_D=5, max_Q=5, m=7, seasonal=True, error_action='warn',trace = True, supress_warnings=True, stepwise=True, random_state=20, n_fits=50)"
   ]
  },
  {
   "cell_type": "code",
   "execution_count": 9,
   "metadata": {},
   "outputs": [
    {
     "data": {
      "text/html": [
       "<table class=\"simpletable\">\n",
       "<caption>SARIMAX Results</caption>\n",
       "<tr>\n",
       "  <th>Dep. Variable:</th>                  <td>y</td>                <th>  No. Observations:  </th>    <td>155</td>  \n",
       "</tr>\n",
       "<tr>\n",
       "  <th>Model:</th>           <td>SARIMAX(0, 1, 3)x(0, 1, [1], 7)</td> <th>  Log Likelihood     </th> <td>-829.653</td>\n",
       "</tr>\n",
       "<tr>\n",
       "  <th>Date:</th>                   <td>Fri, 04 Sep 2020</td>         <th>  AIC                </th> <td>1669.306</td>\n",
       "</tr>\n",
       "<tr>\n",
       "  <th>Time:</th>                       <td>21:37:40</td>             <th>  BIC                </th> <td>1684.259</td>\n",
       "</tr>\n",
       "<tr>\n",
       "  <th>Sample:</th>                         <td>0</td>                <th>  HQIC               </th> <td>1675.382</td>\n",
       "</tr>\n",
       "<tr>\n",
       "  <th></th>                             <td> - 155</td>              <th>                     </th>     <td> </td>   \n",
       "</tr>\n",
       "<tr>\n",
       "  <th>Covariance Type:</th>               <td>opg</td>               <th>                     </th>     <td> </td>   \n",
       "</tr>\n",
       "</table>\n",
       "<table class=\"simpletable\">\n",
       "<tr>\n",
       "     <td></td>        <th>coef</th>     <th>std err</th>      <th>z</th>      <th>P>|z|</th>  <th>[0.025</th>    <th>0.975]</th>  \n",
       "</tr>\n",
       "<tr>\n",
       "  <th>ma.L1</th>   <td>   -0.1810</td> <td>    0.030</td> <td>   -6.029</td> <td> 0.000</td> <td>   -0.240</td> <td>   -0.122</td>\n",
       "</tr>\n",
       "<tr>\n",
       "  <th>ma.L2</th>   <td>   -0.1871</td> <td>    0.036</td> <td>   -5.206</td> <td> 0.000</td> <td>   -0.258</td> <td>   -0.117</td>\n",
       "</tr>\n",
       "<tr>\n",
       "  <th>ma.L3</th>   <td>    0.4532</td> <td>    0.023</td> <td>   19.318</td> <td> 0.000</td> <td>    0.407</td> <td>    0.499</td>\n",
       "</tr>\n",
       "<tr>\n",
       "  <th>ma.S.L7</th> <td>   -0.5511</td> <td>    0.065</td> <td>   -8.464</td> <td> 0.000</td> <td>   -0.679</td> <td>   -0.424</td>\n",
       "</tr>\n",
       "<tr>\n",
       "  <th>sigma2</th>  <td> 4568.5756</td> <td>  170.962</td> <td>   26.723</td> <td> 0.000</td> <td> 4233.497</td> <td> 4903.655</td>\n",
       "</tr>\n",
       "</table>\n",
       "<table class=\"simpletable\">\n",
       "<tr>\n",
       "  <th>Ljung-Box (Q):</th>          <td>25.57</td> <th>  Jarque-Bera (JB):  </th> <td>2410.99</td>\n",
       "</tr>\n",
       "<tr>\n",
       "  <th>Prob(Q):</th>                <td>0.96</td>  <th>  Prob(JB):          </th>  <td>0.00</td>  \n",
       "</tr>\n",
       "<tr>\n",
       "  <th>Heteroskedasticity (H):</th>  <td>inf</td>  <th>  Skew:              </th>  <td>-1.53</td> \n",
       "</tr>\n",
       "<tr>\n",
       "  <th>Prob(H) (two-sided):</th>    <td>0.00</td>  <th>  Kurtosis:          </th>  <td>22.60</td> \n",
       "</tr>\n",
       "</table><br/><br/>Warnings:<br/>[1] Covariance matrix calculated using the outer product of gradients (complex-step)."
      ],
      "text/plain": [
       "<class 'statsmodels.iolib.summary.Summary'>\n",
       "\"\"\"\n",
       "                                      SARIMAX Results                                      \n",
       "===========================================================================================\n",
       "Dep. Variable:                                   y   No. Observations:                  155\n",
       "Model:             SARIMAX(0, 1, 3)x(0, 1, [1], 7)   Log Likelihood                -829.653\n",
       "Date:                             Fri, 04 Sep 2020   AIC                           1669.306\n",
       "Time:                                     21:37:40   BIC                           1684.259\n",
       "Sample:                                          0   HQIC                          1675.382\n",
       "                                             - 155                                         \n",
       "Covariance Type:                               opg                                         \n",
       "==============================================================================\n",
       "                 coef    std err          z      P>|z|      [0.025      0.975]\n",
       "------------------------------------------------------------------------------\n",
       "ma.L1         -0.1810      0.030     -6.029      0.000      -0.240      -0.122\n",
       "ma.L2         -0.1871      0.036     -5.206      0.000      -0.258      -0.117\n",
       "ma.L3          0.4532      0.023     19.318      0.000       0.407       0.499\n",
       "ma.S.L7       -0.5511      0.065     -8.464      0.000      -0.679      -0.424\n",
       "sigma2      4568.5756    170.962     26.723      0.000    4233.497    4903.655\n",
       "===================================================================================\n",
       "Ljung-Box (Q):                       25.57   Jarque-Bera (JB):              2410.99\n",
       "Prob(Q):                              0.96   Prob(JB):                         0.00\n",
       "Heteroskedasticity (H):                inf   Skew:                            -1.53\n",
       "Prob(H) (two-sided):                  0.00   Kurtosis:                        22.60\n",
       "===================================================================================\n",
       "\n",
       "Warnings:\n",
       "[1] Covariance matrix calculated using the outer product of gradients (complex-step).\n",
       "\"\"\""
      ]
     },
     "execution_count": 9,
     "metadata": {},
     "output_type": "execute_result"
    }
   ],
   "source": [
    "arima_model_med_activos.summary()"
   ]
  },
  {
   "cell_type": "code",
   "execution_count": 10,
   "metadata": {},
   "outputs": [],
   "source": [
    "fechas_pred_corto= pd.date_range(start='2020-08-27',periods=15)\n",
    "fechas_pred_corto = pd.DataFrame(fechas_pred_corto)\n",
    "fechas_pred_corto.columns = ['fecha_pred'] \n",
    "fechas_pred_corto = fechas_pred_corto.set_index('fecha_pred')"
   ]
  },
  {
   "cell_type": "code",
   "execution_count": 11,
   "metadata": {},
   "outputs": [],
   "source": [
    "prediction_med_activos_corto = pd.DataFrame(arima_model_med_activos.predict(n_periods=15), index=fechas_pred_corto.index)\n",
    "prediction_med_activos_corto.columns=['pred_casos_activos_med_corto']\n",
    "prediction_med_activos_corto= pd.DataFrame(prediction_med_activos_corto)"
   ]
  },
  {
   "cell_type": "code",
   "execution_count": 12,
   "metadata": {},
   "outputs": [],
   "source": [
    "prediction_med_activos_corto.index = prediction_med_activos_corto.index.strftime('%Y-%m-%d')"
   ]
  },
  {
   "cell_type": "code",
   "execution_count": 13,
   "metadata": {},
   "outputs": [
    {
     "ename": "ValueError",
     "evalue": "Unrecognized location 'Left corner'. Valid locations are\n\tbest\n\tupper right\n\tupper left\n\tlower left\n\tlower right\n\tright\n\tcenter left\n\tcenter right\n\tlower center\n\tupper center\n\tcenter\n",
     "output_type": "error",
     "traceback": [
      "\u001b[0;31m---------------------------------------------------------------------------\u001b[0m",
      "\u001b[0;31mValueError\u001b[0m                                Traceback (most recent call last)",
      "\u001b[0;32m<ipython-input-13-c953e76039ac>\u001b[0m in \u001b[0;36m<module>\u001b[0;34m\u001b[0m\n\u001b[1;32m      2\u001b[0m \u001b[0mplt\u001b[0m\u001b[0;34m.\u001b[0m\u001b[0mplot\u001b[0m\u001b[0;34m(\u001b[0m\u001b[0mdata_med_activos\u001b[0m\u001b[0;34m,\u001b[0m \u001b[0mlabel\u001b[0m\u001b[0;34m=\u001b[0m\u001b[0;34m'real'\u001b[0m\u001b[0;34m)\u001b[0m\u001b[0;34m\u001b[0m\u001b[0;34m\u001b[0m\u001b[0m\n\u001b[1;32m      3\u001b[0m \u001b[0mplt\u001b[0m\u001b[0;34m.\u001b[0m\u001b[0mplot\u001b[0m\u001b[0;34m(\u001b[0m\u001b[0mprediction_med_activos_corto\u001b[0m\u001b[0;34m,\u001b[0m \u001b[0mlabel\u001b[0m \u001b[0;34m=\u001b[0m \u001b[0;34m'predicted'\u001b[0m\u001b[0;34m)\u001b[0m\u001b[0;34m\u001b[0m\u001b[0;34m\u001b[0m\u001b[0m\n\u001b[0;32m----> 4\u001b[0;31m \u001b[0mplt\u001b[0m\u001b[0;34m.\u001b[0m\u001b[0mlegend\u001b[0m\u001b[0;34m(\u001b[0m\u001b[0mloc\u001b[0m\u001b[0;34m=\u001b[0m\u001b[0;34m'Left corner'\u001b[0m\u001b[0;34m)\u001b[0m\u001b[0;34m\u001b[0m\u001b[0;34m\u001b[0m\u001b[0m\n\u001b[0m\u001b[1;32m      5\u001b[0m \u001b[0mplt\u001b[0m\u001b[0;34m.\u001b[0m\u001b[0mshow\u001b[0m\u001b[0;34m(\u001b[0m\u001b[0;34m)\u001b[0m\u001b[0;34m\u001b[0m\u001b[0;34m\u001b[0m\u001b[0m\n",
      "\u001b[0;32m~/Library/Python/3.7/lib/python/site-packages/matplotlib/pyplot.py\u001b[0m in \u001b[0;36mlegend\u001b[0;34m(*args, **kwargs)\u001b[0m\n\u001b[1;32m   2720\u001b[0m \u001b[0;34m@\u001b[0m\u001b[0m_copy_docstring_and_deprecators\u001b[0m\u001b[0;34m(\u001b[0m\u001b[0mAxes\u001b[0m\u001b[0;34m.\u001b[0m\u001b[0mlegend\u001b[0m\u001b[0;34m)\u001b[0m\u001b[0;34m\u001b[0m\u001b[0;34m\u001b[0m\u001b[0m\n\u001b[1;32m   2721\u001b[0m \u001b[0;32mdef\u001b[0m \u001b[0mlegend\u001b[0m\u001b[0;34m(\u001b[0m\u001b[0;34m*\u001b[0m\u001b[0margs\u001b[0m\u001b[0;34m,\u001b[0m \u001b[0;34m**\u001b[0m\u001b[0mkwargs\u001b[0m\u001b[0;34m)\u001b[0m\u001b[0;34m:\u001b[0m\u001b[0;34m\u001b[0m\u001b[0;34m\u001b[0m\u001b[0m\n\u001b[0;32m-> 2722\u001b[0;31m     \u001b[0;32mreturn\u001b[0m \u001b[0mgca\u001b[0m\u001b[0;34m(\u001b[0m\u001b[0;34m)\u001b[0m\u001b[0;34m.\u001b[0m\u001b[0mlegend\u001b[0m\u001b[0;34m(\u001b[0m\u001b[0;34m*\u001b[0m\u001b[0margs\u001b[0m\u001b[0;34m,\u001b[0m \u001b[0;34m**\u001b[0m\u001b[0mkwargs\u001b[0m\u001b[0;34m)\u001b[0m\u001b[0;34m\u001b[0m\u001b[0;34m\u001b[0m\u001b[0m\n\u001b[0m\u001b[1;32m   2723\u001b[0m \u001b[0;34m\u001b[0m\u001b[0m\n\u001b[1;32m   2724\u001b[0m \u001b[0;34m\u001b[0m\u001b[0m\n",
      "\u001b[0;32m~/Library/Python/3.7/lib/python/site-packages/matplotlib/axes/_axes.py\u001b[0m in \u001b[0;36mlegend\u001b[0;34m(self, *args, **kwargs)\u001b[0m\n\u001b[1;32m    415\u001b[0m         \u001b[0;32mif\u001b[0m \u001b[0mlen\u001b[0m\u001b[0;34m(\u001b[0m\u001b[0mextra_args\u001b[0m\u001b[0;34m)\u001b[0m\u001b[0;34m:\u001b[0m\u001b[0;34m\u001b[0m\u001b[0;34m\u001b[0m\u001b[0m\n\u001b[1;32m    416\u001b[0m             \u001b[0;32mraise\u001b[0m \u001b[0mTypeError\u001b[0m\u001b[0;34m(\u001b[0m\u001b[0;34m'legend only accepts two non-keyword arguments'\u001b[0m\u001b[0;34m)\u001b[0m\u001b[0;34m\u001b[0m\u001b[0;34m\u001b[0m\u001b[0m\n\u001b[0;32m--> 417\u001b[0;31m         \u001b[0mself\u001b[0m\u001b[0;34m.\u001b[0m\u001b[0mlegend_\u001b[0m \u001b[0;34m=\u001b[0m \u001b[0mmlegend\u001b[0m\u001b[0;34m.\u001b[0m\u001b[0mLegend\u001b[0m\u001b[0;34m(\u001b[0m\u001b[0mself\u001b[0m\u001b[0;34m,\u001b[0m \u001b[0mhandles\u001b[0m\u001b[0;34m,\u001b[0m \u001b[0mlabels\u001b[0m\u001b[0;34m,\u001b[0m \u001b[0;34m**\u001b[0m\u001b[0mkwargs\u001b[0m\u001b[0;34m)\u001b[0m\u001b[0;34m\u001b[0m\u001b[0;34m\u001b[0m\u001b[0m\n\u001b[0m\u001b[1;32m    418\u001b[0m         \u001b[0mself\u001b[0m\u001b[0;34m.\u001b[0m\u001b[0mlegend_\u001b[0m\u001b[0;34m.\u001b[0m\u001b[0m_remove_method\u001b[0m \u001b[0;34m=\u001b[0m \u001b[0mself\u001b[0m\u001b[0;34m.\u001b[0m\u001b[0m_remove_legend\u001b[0m\u001b[0;34m\u001b[0m\u001b[0;34m\u001b[0m\u001b[0m\n\u001b[1;32m    419\u001b[0m         \u001b[0;32mreturn\u001b[0m \u001b[0mself\u001b[0m\u001b[0;34m.\u001b[0m\u001b[0mlegend_\u001b[0m\u001b[0;34m\u001b[0m\u001b[0;34m\u001b[0m\u001b[0m\n",
      "\u001b[0;32m~/Library/Python/3.7/lib/python/site-packages/matplotlib/legend.py\u001b[0m in \u001b[0;36m__init__\u001b[0;34m(self, parent, handles, labels, loc, numpoints, markerscale, markerfirst, scatterpoints, scatteryoffsets, prop, fontsize, labelcolor, borderpad, labelspacing, handlelength, handleheight, handletextpad, borderaxespad, columnspacing, ncol, mode, fancybox, shadow, title, title_fontsize, framealpha, edgecolor, facecolor, bbox_to_anchor, bbox_transform, frameon, handler_map)\u001b[0m\n\u001b[1;32m    455\u001b[0m                 raise ValueError(\n\u001b[1;32m    456\u001b[0m                     \u001b[0;34m\"Unrecognized location {!r}. Valid locations are\\n\\t{}\\n\"\u001b[0m\u001b[0;34m\u001b[0m\u001b[0;34m\u001b[0m\u001b[0m\n\u001b[0;32m--> 457\u001b[0;31m                     .format(loc, '\\n\\t'.join(self.codes)))\n\u001b[0m\u001b[1;32m    458\u001b[0m             \u001b[0;32melse\u001b[0m\u001b[0;34m:\u001b[0m\u001b[0;34m\u001b[0m\u001b[0;34m\u001b[0m\u001b[0m\n\u001b[1;32m    459\u001b[0m                 \u001b[0mloc\u001b[0m \u001b[0;34m=\u001b[0m \u001b[0mself\u001b[0m\u001b[0;34m.\u001b[0m\u001b[0mcodes\u001b[0m\u001b[0;34m[\u001b[0m\u001b[0mloc\u001b[0m\u001b[0;34m]\u001b[0m\u001b[0;34m\u001b[0m\u001b[0;34m\u001b[0m\u001b[0m\n",
      "\u001b[0;31mValueError\u001b[0m: Unrecognized location 'Left corner'. Valid locations are\n\tbest\n\tupper right\n\tupper left\n\tlower left\n\tlower right\n\tright\n\tcenter left\n\tcenter right\n\tlower center\n\tupper center\n\tcenter\n"
     ]
    },
    {
     "data": {
      "image/png": "[encoded data removed]",
      "text/plain": [
       "<Figure size 576x360 with 1 Axes>"
      ]
     },
     "metadata": {
      "needs_background": "light"
     },
     "output_type": "display_data"
    }
   ],
   "source": [
    "plt.figure(figsize=(8,5))\n",
    "plt.plot(data_med_activos, label='real')\n",
    "plt.plot(prediction_med_activos_corto, label = 'predicted')\n",
    "plt.legend(loc='Left corner')\n",
    "plt.show()"
   ]
  },
  {
   "cell_type": "markdown",
   "metadata": {},
   "source": [
    "Para esta serie se ajustó un modelo ARIMA (0,1,1)(1,1,0), es decir, con cero períodos para modelo autorregresivo, con una diferenciación de la serie, y con un período del modelo de media móvil.\n",
    "\n",
    "Basta con diferenciar una vez la serie original para que ésta se convierta en estacionaria como se muestra en la siguiente gráfica.\n",
    "Por lo tanto, el modelo con una diferenciación que escogió el AUTOARIMA es un modelo válido para pronosticar en los datos de interés."
   ]
  },
  {
   "cell_type": "code",
   "execution_count": null,
   "metadata": {},
   "outputs": [],
   "source": [
    "data_med_activos_diff = data_med_activos.diff(periods=1)"
   ]
  },
  {
   "cell_type": "code",
   "execution_count": null,
   "metadata": {},
   "outputs": [],
   "source": [
    "data_med_activos_diff.plot()"
   ]
  },
  {
   "cell_type": "markdown",
   "metadata": {},
   "source": [
    "### **Casos Confirmados**"
   ]
  },
  {
   "cell_type": "code",
   "execution_count": null,
   "metadata": {},
   "outputs": [],
   "source": [
    "data_med_confirmados = data_med[['fecha_reporte_web','conteo_confirmados']]\n",
    "data_med_confirmados"
   ]
  },
  {
   "cell_type": "code",
   "execution_count": null,
   "metadata": {},
   "outputs": [],
   "source": [
    "data_med_confirmados = data_med_confirmados.set_index('fecha_reporte_web')"
   ]
  },
  {
   "cell_type": "code",
   "execution_count": null,
   "metadata": {},
   "outputs": [],
   "source": [
    "data_med_confirmados.plot()"
   ]
  },
  {
   "cell_type": "code",
   "execution_count": null,
   "metadata": {},
   "outputs": [],
   "source": [
    "train_med_confirmados = data_med_confirmados[:121]\n",
    "test_med_confirmados = data_med_confirmados[122:]"
   ]
  },
  {
   "cell_type": "code",
   "execution_count": null,
   "metadata": {},
   "outputs": [],
   "source": [
    "arima_model_med_confirmados= auto_arima(data_med_confirmados, start_p=0, d=1, start_q=0, max_p=5, max_d=5,max_q=5, start_P=0, D=1, start_Q=0, max_P=5, max_D=5, max_Q=5, m=7, seasonal=True, error_action='warn',trace = True, supress_warnings=True, stepwise=True, random_state=20, n_fits=50)"
   ]
  },
  {
   "cell_type": "code",
   "execution_count": null,
   "metadata": {},
   "outputs": [],
   "source": [
    "arima_model_med_activos.summary()"
   ]
  },
  {
   "cell_type": "code",
   "execution_count": null,
   "metadata": {},
   "outputs": [],
   "source": [
    "fechas_pred_corto= pd.date_range(start='2020-08-27',periods=15)\n",
    "fechas_pred_corto = pd.DataFrame(fechas_pred_corto)\n",
    "fechas_pred_corto.columns = ['fecha_pred'] \n",
    "fechas_pred_corto = fechas_pred_corto.set_index('fecha_pred')"
   ]
  },
  {
   "cell_type": "code",
   "execution_count": null,
   "metadata": {},
   "outputs": [],
   "source": [
    "prediction_med_confirmados_corto = pd.DataFrame(arima_model_med_confirmados.predict(n_periods=15), index=fechas_pred_corto.index)\n",
    "prediction_med_confirmados_corto.columns=['pred_casos_confirmados_med_corto']\n",
    "prediction_med_confirmados_corto= pd.DataFrame(prediction_med_confirmados_corto)"
   ]
  },
  {
   "cell_type": "code",
   "execution_count": null,
   "metadata": {},
   "outputs": [],
   "source": [
    "prediction_med_confirmados_corto.index = prediction_med_confirmados_corto.index.strftime('%Y-%m-%d')"
   ]
  },
  {
   "cell_type": "code",
   "execution_count": null,
   "metadata": {},
   "outputs": [],
   "source": [
    "plt.figure(figsize=(8,5))\n",
    "plt.plot(data_med_confirmados, label='real')\n",
    "plt.plot(prediction_med_confirmados_corto, label = 'predicted')\n",
    "plt.legend(loc='Left corner')\n",
    "plt.show()"
   ]
  },
  {
   "cell_type": "markdown",
   "metadata": {},
   "source": [
    "Para esta serie se ajustó un modelo ARIMA (0,1,1)(0,1,2), es decir, con cero períodos para modelo autorregresivo, con una diferenciación de la serie, y con un período del modelo de media móvil.\n",
    "\n",
    "Basta con diferenciar una vez la serie original para que ésta se convierta en estacionaria como se muestra en la siguiente gráfica.\n",
    "Por lo tanto, el modelo con una diferenciación que escogió el AUTOARIMA es un modelo válido para pronosticar en los datos de interés."
   ]
  },
  {
   "cell_type": "code",
   "execution_count": null,
   "metadata": {},
   "outputs": [],
   "source": [
    "data_med_confirmados_diff = data_med_confirmados.diff(periods=1)"
   ]
  },
  {
   "cell_type": "code",
   "execution_count": null,
   "metadata": {},
   "outputs": [],
   "source": [
    "data_med_confirmados_diff.plot()"
   ]
  },
  {
   "cell_type": "markdown",
   "metadata": {},
   "source": [
    "### **Casos Recuperados**"
   ]
  },
  {
   "cell_type": "code",
   "execution_count": null,
   "metadata": {},
   "outputs": [],
   "source": [
    "data_med_recuperados = data_med[['fecha_reporte_web','conteo_recuperado']]\n",
    "data_med_recuperados"
   ]
  },
  {
   "cell_type": "code",
   "execution_count": null,
   "metadata": {},
   "outputs": [],
   "source": [
    "data_med_recuperados= data_med_recuperados.set_index('fecha_reporte_web')"
   ]
  },
  {
   "cell_type": "code",
   "execution_count": null,
   "metadata": {},
   "outputs": [],
   "source": [
    "data_med_recuperados.plot()"
   ]
  },
  {
   "cell_type": "code",
   "execution_count": null,
   "metadata": {},
   "outputs": [],
   "source": [
    "train_med_recuperados = data_med_recuperados[:121]\n",
    "test_med_recuperados = data_med_recuperados[122:]"
   ]
  },
  {
   "cell_type": "code",
   "execution_count": null,
   "metadata": {},
   "outputs": [],
   "source": [
    "arima_model_med_recuperados= auto_arima(data_med_recuperados, start_p=0, d=1, start_q=0, max_p=5, max_d=5,max_q=5, start_P=0, D=1, start_Q=0, max_P=5, max_D=5, max_Q=5, m=7, seasonal=True, error_action='warn',trace = True, supress_warnings=True, stepwise=True, random_state=20, n_fits=50)"
   ]
  },
  {
   "cell_type": "code",
   "execution_count": null,
   "metadata": {},
   "outputs": [],
   "source": [
    "arima_model_med_recuperados.summary()"
   ]
  },
  {
   "cell_type": "code",
   "execution_count": null,
   "metadata": {},
   "outputs": [],
   "source": [
    "fechas_pred_corto= pd.date_range(start='2020-08-27',periods=15)\n",
    "fechas_pred_corto = pd.DataFrame(fechas_pred_corto)\n",
    "fechas_pred_corto.columns = ['fecha_pred'] \n",
    "fechas_pred_corto = fechas_pred_corto.set_index('fecha_pred')"
   ]
  },
  {
   "cell_type": "code",
   "execution_count": null,
   "metadata": {},
   "outputs": [],
   "source": [
    "prediction_med_recuperados_corto = pd.DataFrame(arima_model_med_recuperados.predict(n_periods=15), index=fechas_pred_corto.index)\n",
    "prediction_med_recuperados_corto.columns=['pred_casos_recuperados_med_corto']\n",
    "prediction_med_recuperados_corto= pd.DataFrame(prediction_med_recuperados_corto)"
   ]
  },
  {
   "cell_type": "code",
   "execution_count": null,
   "metadata": {},
   "outputs": [],
   "source": [
    "prediction_med_recuperados_corto.index = prediction_med_recuperados_corto.index.strftime('%Y-%m-%d')"
   ]
  },
  {
   "cell_type": "code",
   "execution_count": null,
   "metadata": {},
   "outputs": [],
   "source": [
    "prediction_med_recuperados_corto[prediction_med_recuperados_corto < 0] = 0"
   ]
  },
  {
   "cell_type": "code",
   "execution_count": null,
   "metadata": {},
   "outputs": [],
   "source": [
    "plt.figure(figsize=(8,5))\n",
    "plt.plot(data_med_recuperados, label='real')\n",
    "plt.plot(prediction_med_recuperados_corto, label = 'predicted')\n",
    "plt.legend(loc='Left corner')\n",
    "plt.show()"
   ]
  },
  {
   "cell_type": "markdown",
   "metadata": {},
   "source": [
    "Para esta serie se ajustó un modelo ARIMA (0,1,1)(0,1,2), es decir, con cero períodos para modelo autorregresivo, con una diferenciación de la serie, y con un período del modelo de media móvil.\n",
    "\n",
    "Basta con diferenciar una vez la serie original para que ésta se convierta en estacionaria como se muestra en la siguiente gráfica.\n",
    "Por lo tanto, el modelo con una diferenciación que escogió el AUTOARIMA es un modelo válido para pronosticar en los datos de interés."
   ]
  },
  {
   "cell_type": "code",
   "execution_count": null,
   "metadata": {},
   "outputs": [],
   "source": [
    "data_med_recuperados_diff = data_med_recuperados.diff(periods=1)"
   ]
  },
  {
   "cell_type": "code",
   "execution_count": null,
   "metadata": {},
   "outputs": [],
   "source": [
    "data_med_recuperados_diff.plot()"
   ]
  },
  {
   "cell_type": "markdown",
   "metadata": {},
   "source": [
    "### **Casos Fallecidos**"
   ]
  },
  {
   "cell_type": "code",
   "execution_count": null,
   "metadata": {},
   "outputs": [],
   "source": [
    "data_med_fallecidos = data_med[['fecha_reporte_web','conteo_fallecidos']]\n",
    "data_med_fallecidos"
   ]
  },
  {
   "cell_type": "code",
   "execution_count": null,
   "metadata": {},
   "outputs": [],
   "source": [
    "data_med_fallecidos = data_med_fallecidos.set_index('fecha_reporte_web')"
   ]
  },
  {
   "cell_type": "code",
   "execution_count": null,
   "metadata": {},
   "outputs": [],
   "source": [
    "data_med_fallecidos.plot()"
   ]
  },
  {
   "cell_type": "code",
   "execution_count": null,
   "metadata": {},
   "outputs": [],
   "source": [
    "train_med_fallecidos = data_med_fallecidos[:121]\n",
    "test_med_fallecidos = data_med_fallecidos[122:]"
   ]
  },
  {
   "cell_type": "code",
   "execution_count": null,
   "metadata": {},
   "outputs": [],
   "source": [
    "arima_model_med_fallecidos= auto_arima(data_med_fallecidos, start_p=0, d=1, start_q=0, max_p=5, max_d=5,max_q=5, start_P=0, D=1, start_Q=0, max_P=5, max_D=5, max_Q=5, m=7, seasonal=True, error_action='warn',trace = True, supress_warnings=True, stepwise=True, random_state=20, n_fits=50)"
   ]
  },
  {
   "cell_type": "code",
   "execution_count": null,
   "metadata": {},
   "outputs": [],
   "source": [
    "arima_model_med_fallecidos.summary()"
   ]
  },
  {
   "cell_type": "code",
   "execution_count": null,
   "metadata": {},
   "outputs": [],
   "source": [
    "fechas_pred_corto= pd.date_range(start='2020-08-27',periods=15)\n",
    "fechas_pred_corto = pd.DataFrame(fechas_pred_corto)\n",
    "fechas_pred_corto.columns = ['fecha_pred'] \n",
    "fechas_pred_corto = fechas_pred_corto.set_index('fecha_pred')"
   ]
  },
  {
   "cell_type": "code",
   "execution_count": null,
   "metadata": {},
   "outputs": [],
   "source": [
    "prediction_med_fallecidos_corto = pd.DataFrame(arima_model_med_fallecidos.predict(n_periods=15), index=fechas_pred_corto.index)\n",
    "prediction_med_fallecidos_corto.columns=['pred_casos_fallecidos_med_corto']\n",
    "prediction_med_fallecidos_corto= pd.DataFrame(prediction_med_fallecidos_corto)"
   ]
  },
  {
   "cell_type": "code",
   "execution_count": null,
   "metadata": {},
   "outputs": [],
   "source": [
    "prediction_med_fallecidos_corto.index = prediction_med_fallecidos_corto.index.strftime('%Y-%m-%d')"
   ]
  },
  {
   "cell_type": "code",
   "execution_count": null,
   "metadata": {},
   "outputs": [],
   "source": [
    "plt.figure(figsize=(8,5))\n",
    "plt.plot(data_med_fallecidos, label='real')\n",
    "plt.plot(prediction_med_fallecidos_corto, label = 'predicted')\n",
    "plt.legend(loc='Left corner')\n",
    "plt.show()"
   ]
  },
  {
   "cell_type": "markdown",
   "metadata": {},
   "source": [
    "Para esta serie se ajustó un modelo ARIMA (0,1,1)(0,1,1), es decir, con cero períodos para modelo autorregresivo, con una diferenciación de la serie, y con un período del modelo de media móvil.\n",
    "\n",
    "Basta con diferenciar una vez la serie original para que ésta se convierta en estacionaria como se muestra en la siguiente gráfica.\n",
    "Por lo tanto, el modelo con una diferenciación que escogió el AUTOARIMA es un modelo válido para pronosticar en los datos de interés."
   ]
  },
  {
   "cell_type": "code",
   "execution_count": null,
   "metadata": {},
   "outputs": [],
   "source": [
    "data_med_fallecidos_diff = data_med_fallecidos.diff(periods=1)\n",
    "data_med_fallecidos_diff.plot()"
   ]
  },
  {
   "cell_type": "markdown",
   "metadata": {},
   "source": [
    "## **Ciudad Bogotá D.C.**"
   ]
  },
  {
   "cell_type": "markdown",
   "metadata": {},
   "source": [
    "### **Casos Activos**"
   ]
  },
  {
   "cell_type": "code",
   "execution_count": null,
   "metadata": {},
   "outputs": [],
   "source": [
    "data_bgta = data[data['ciudad_de_ubicaci_n']=='Bogotá D.C.']"
   ]
  },
  {
   "cell_type": "code",
   "execution_count": null,
   "metadata": {},
   "outputs": [],
   "source": [
    "data_bgta_activos = data_bgta[['fecha_reporte_web','casos_activos']]\n",
    "data_bgta_activos"
   ]
  },
  {
   "cell_type": "code",
   "execution_count": null,
   "metadata": {},
   "outputs": [],
   "source": [
    "data_bgta_activos = data_bgta_activos.set_index('fecha_reporte_web')\n",
    "data_bgta_activos.plot()"
   ]
  },
  {
   "cell_type": "code",
   "execution_count": null,
   "metadata": {},
   "outputs": [],
   "source": [
    "train_bgta_activos = data_bgta_activos[:121]\n",
    "test_bgta_activos = data_bgta_activos[122:]"
   ]
  },
  {
   "cell_type": "code",
   "execution_count": null,
   "metadata": {},
   "outputs": [],
   "source": [
    "arima_model_bgta_activos= auto_arima(data_bgta_activos, start_p=0, d=1, start_q=0, max_p=5, max_d=5,max_q=5, start_P=0, D=1, start_Q=0, max_P=5, max_D=5, max_Q=5, m=7, seasonal=True, error_action='warn',trace = True, supress_warnings=True, stepwise=True, random_state=20, n_fits=50)"
   ]
  },
  {
   "cell_type": "code",
   "execution_count": null,
   "metadata": {},
   "outputs": [],
   "source": [
    "arima_model_bgta_activos.summary()"
   ]
  },
  {
   "cell_type": "code",
   "execution_count": null,
   "metadata": {},
   "outputs": [],
   "source": [
    "fechas_pred_corto= pd.date_range(start='2020-08-27',periods=15)\n",
    "fechas_pred_corto = pd.DataFrame(fechas_pred_corto)\n",
    "fechas_pred_corto.columns = ['fecha_pred'] \n",
    "fechas_pred_corto = fechas_pred_corto.set_index('fecha_pred')"
   ]
  },
  {
   "cell_type": "code",
   "execution_count": null,
   "metadata": {},
   "outputs": [],
   "source": [
    "prediction_bgta_activos_corto = pd.DataFrame(arima_model_bgta_activos.predict(n_periods=15), index=fechas_pred_corto.index)\n",
    "prediction_bgta_activos_corto.columns=['pred_casos_activos_bgta_corto']\n",
    "prediction_bgta_activos_corto= pd.DataFrame(prediction_bgta_activos_corto)"
   ]
  },
  {
   "cell_type": "code",
   "execution_count": null,
   "metadata": {},
   "outputs": [],
   "source": [
    "prediction_bgta_activos_corto.index = prediction_bgta_activos_corto.index.strftime('%Y-%m-%d')"
   ]
  },
  {
   "cell_type": "code",
   "execution_count": null,
   "metadata": {},
   "outputs": [],
   "source": [
    "plt.figure(figsize=(8,5))\n",
    "plt.plot(data_bgta_activos, label='real')\n",
    "plt.plot(prediction_bgta_activos_corto, label = 'predicted')\n",
    "plt.legend(loc='Left corner')\n",
    "plt.show()"
   ]
  },
  {
   "cell_type": "markdown",
   "metadata": {},
   "source": [
    "Para esta serie se ajustó un modelo ARIMA (2,1,2)(2,1,1), es decir, con dos períodos para modelo autorregresivo, con una diferenciación de la serie, y con dos período del modelo de media móvil.\n",
    "\n",
    "Basta con diferenciar una vez la serie original para que ésta se convierta en estacionaria como se muestra en la siguiente gráfica.\n",
    "Por lo tanto, el modelo con una diferenciación que escogió el AUTOARIMA es un modelo válido para pronosticar en los datos de interés."
   ]
  },
  {
   "cell_type": "code",
   "execution_count": null,
   "metadata": {},
   "outputs": [],
   "source": [
    "data_bgta_activos_diff = data_bgta_activos.diff(periods=1)\n",
    "data_bgta_activos_diff.plot()"
   ]
  },
  {
   "cell_type": "markdown",
   "metadata": {},
   "source": [
    "### **Casos Confirmados**"
   ]
  },
  {
   "cell_type": "code",
   "execution_count": null,
   "metadata": {},
   "outputs": [],
   "source": [
    "data_bgta_confirmados = data_bgta[['fecha_reporte_web','conteo_confirmados']]\n",
    "data_bgta_confirmados"
   ]
  },
  {
   "cell_type": "code",
   "execution_count": null,
   "metadata": {},
   "outputs": [],
   "source": [
    "data_bgta_confirmados = data_bgta_confirmados.set_index('fecha_reporte_web')\n",
    "data_bgta_confirmados.plot()"
   ]
  },
  {
   "cell_type": "code",
   "execution_count": null,
   "metadata": {},
   "outputs": [],
   "source": [
    "train_bgta_confirmados = data_bgta_confirmados[:121]\n",
    "test_bgta_confirmados = data_bgta_confirmados[122:]"
   ]
  },
  {
   "cell_type": "code",
   "execution_count": null,
   "metadata": {},
   "outputs": [],
   "source": [
    "arima_model_bgta_confirmados= auto_arima(data_bgta_confirmados, start_p=0, d=1, start_q=0, max_p=5, max_d=5,max_q=5, start_P=0, D=1, start_Q=0, max_P=5, max_D=5, max_Q=5, m=7, seasonal=True, error_action='warn',trace = True, supress_warnings=True, stepwise=True, random_state=20, n_fits=50)"
   ]
  },
  {
   "cell_type": "code",
   "execution_count": null,
   "metadata": {},
   "outputs": [],
   "source": [
    "arima_model_bgta_confirmados.summary()"
   ]
  },
  {
   "cell_type": "code",
   "execution_count": null,
   "metadata": {},
   "outputs": [],
   "source": [
    "fechas_pred_corto= pd.date_range(start='2020-08-27',periods=15)\n",
    "fechas_pred_corto = pd.DataFrame(fechas_pred_corto)\n",
    "fechas_pred_corto.columns = ['fecha_pred'] \n",
    "fechas_pred_corto = fechas_pred_corto.set_index('fecha_pred')"
   ]
  },
  {
   "cell_type": "code",
   "execution_count": null,
   "metadata": {},
   "outputs": [],
   "source": [
    "prediction_bgta_confirmados_corto = pd.DataFrame(arima_model_bgta_confirmados.predict(n_periods=15), index=fechas_pred_corto.index)\n",
    "prediction_bgta_confirmados_corto.columns=['pred_casos_confirmados_bgta_corto']\n",
    "prediction_bgta_confirmados_corto= pd.DataFrame(prediction_bgta_confirmados_corto)"
   ]
  },
  {
   "cell_type": "code",
   "execution_count": null,
   "metadata": {},
   "outputs": [],
   "source": [
    "prediction_bgta_confirmados_corto.index = prediction_bgta_confirmados_corto.index.strftime('%Y-%m-%d')"
   ]
  },
  {
   "cell_type": "code",
   "execution_count": null,
   "metadata": {},
   "outputs": [],
   "source": [
    "plt.figure(figsize=(8,5))\n",
    "plt.plot(data_bgta_confirmados, label='real')\n",
    "plt.plot(prediction_bgta_confirmados_corto, label = 'predicted')\n",
    "plt.legend(loc='Left corner')\n",
    "plt.show()\n"
   ]
  },
  {
   "cell_type": "markdown",
   "metadata": {},
   "source": [
    "Para esta serie se ajustó un modelo ARIMA (0,1,2)(2,1,0), es decir, con cero períodos para modelo autorregresivo, con una diferenciación de la serie, y con dos período del modelo de media móvil.\n",
    "\n",
    "Basta con diferenciar una vez la serie original para que ésta se convierta en estacionaria como se muestra en la siguiente gráfica.\n",
    "Por lo tanto, el modelo con una diferenciación que escogió el AUTOARIMA es un modelo válido para pronosticar en los datos de interés."
   ]
  },
  {
   "cell_type": "code",
   "execution_count": null,
   "metadata": {},
   "outputs": [],
   "source": [
    "data_bgta_confirmados_diff = data_bgta_confirmados.diff(periods=1)\n",
    "data_bgta_confirmados_diff.plot()"
   ]
  },
  {
   "cell_type": "markdown",
   "metadata": {},
   "source": [
    "### **Casos Recuperados**"
   ]
  },
  {
   "cell_type": "code",
   "execution_count": null,
   "metadata": {},
   "outputs": [],
   "source": [
    "data_bgta_recuperados = data_bgta[['fecha_reporte_web','conteo_recuperado']]\n",
    "data_bgta_recuperados"
   ]
  },
  {
   "cell_type": "code",
   "execution_count": null,
   "metadata": {},
   "outputs": [],
   "source": [
    "data_bgta_recuperados = data_bgta_recuperados.set_index('fecha_reporte_web')\n",
    "data_bgta_recuperados.plot()"
   ]
  },
  {
   "cell_type": "code",
   "execution_count": null,
   "metadata": {},
   "outputs": [],
   "source": [
    "train_bgta_recuperados = data_bgta_recuperados[:121]\n",
    "test_bgta_recuperados = data_bgta_recuperados[122:]"
   ]
  },
  {
   "cell_type": "code",
   "execution_count": null,
   "metadata": {},
   "outputs": [],
   "source": [
    "arima_model_bgta_recuperados= auto_arima(data_bgta_recuperados, start_p=0, d=1, start_q=0, max_p=5, max_d=5,max_q=5, start_P=0, D=1, start_Q=0, max_P=5, max_D=5, max_Q=5, m=7, seasonal=True, error_action='warn',trace = True, supress_warnings=True, stepwise=True, random_state=20, n_fits=50)\n"
   ]
  },
  {
   "cell_type": "code",
   "execution_count": null,
   "metadata": {},
   "outputs": [],
   "source": [
    "arima_model_bgta_recuperados.summary()"
   ]
  },
  {
   "cell_type": "code",
   "execution_count": null,
   "metadata": {},
   "outputs": [],
   "source": [
    "fechas_pred_corto= pd.date_range(start='2020-08-27',periods=15)\n",
    "fechas_pred_corto = pd.DataFrame(fechas_pred_corto)\n",
    "fechas_pred_corto.columns = ['fecha_pred'] \n",
    "fechas_pred_corto = fechas_pred_corto.set_index('fecha_pred')"
   ]
  },
  {
   "cell_type": "code",
   "execution_count": null,
   "metadata": {},
   "outputs": [],
   "source": [
    "prediction_bgta_recuperados_corto = pd.DataFrame(arima_model_bgta_recuperados.predict(n_periods=15), index=fechas_pred_corto.index)\n",
    "prediction_bgta_recuperados_corto.columns=['pred_casos_recuperados_bgta_corto']\n",
    "prediction_bgta_recuperados_corto= pd.DataFrame(prediction_bgta_recuperados_corto)"
   ]
  },
  {
   "cell_type": "code",
   "execution_count": null,
   "metadata": {},
   "outputs": [],
   "source": [
    "prediction_bgta_recuperados_corto.index = prediction_bgta_recuperados_corto.index.strftime('%Y-%m-%d')"
   ]
  },
  {
   "cell_type": "code",
   "execution_count": null,
   "metadata": {},
   "outputs": [],
   "source": [
    "prediction_bgta_recuperados_corto[prediction_bgta_recuperados_corto < 0] = 0"
   ]
  },
  {
   "cell_type": "code",
   "execution_count": null,
   "metadata": {},
   "outputs": [],
   "source": [
    "plt.figure(figsize=(8,5))\n",
    "plt.plot(data_bgta_recuperados, label='real')\n",
    "plt.plot(prediction_bgta_recuperados_corto, label = 'predicted')\n",
    "plt.legend(loc='Left corner')\n",
    "plt.show()"
   ]
  },
  {
   "cell_type": "markdown",
   "metadata": {},
   "source": [
    "Para esta serie se ajustó un modelo ARIMA (0,1,3)(1,1,1), es decir, con cero períodos para modelo autorregresivo, con una diferenciación de la serie, y con tres período del modelo de media móvil.\n",
    "\n",
    "Basta con diferenciar una vez la serie original para que ésta se convierta en estacionaria como se muestra en la siguiente gráfica.\n",
    "Por lo tanto, el modelo con una diferenciación que escogió el AUTOARIMA es un modelo válido para pronosticar en los datos de interés."
   ]
  },
  {
   "cell_type": "code",
   "execution_count": null,
   "metadata": {},
   "outputs": [],
   "source": [
    "data_bgta_recuperados_diff = data_bgta_recuperados.diff(periods=1)\n",
    "data_bgta_recuperados_diff.plot()"
   ]
  },
  {
   "cell_type": "markdown",
   "metadata": {},
   "source": [
    "### **Casos Fallecidos**"
   ]
  },
  {
   "cell_type": "code",
   "execution_count": null,
   "metadata": {},
   "outputs": [],
   "source": [
    "data_bgta_fallecidos = data_bgta[['fecha_reporte_web','conteo_fallecidos']]\n",
    "data_bgta_fallecidos"
   ]
  },
  {
   "cell_type": "code",
   "execution_count": null,
   "metadata": {},
   "outputs": [],
   "source": [
    "data_bgta_fallecidos = data_bgta_fallecidos.set_index('fecha_reporte_web')\n",
    "data_bgta_fallecidos.plot()"
   ]
  },
  {
   "cell_type": "code",
   "execution_count": null,
   "metadata": {},
   "outputs": [],
   "source": [
    "train_bgta_fallecidos = data_bgta_fallecidos[:121]\n",
    "test_bgta_fallecidos = data_bgta_fallecidos[122:]"
   ]
  },
  {
   "cell_type": "code",
   "execution_count": null,
   "metadata": {},
   "outputs": [],
   "source": [
    "arima_model_bgta_fallecidos= auto_arima(data_bgta_fallecidos, start_p=0, d=1, start_q=0, max_p=5, max_d=5,max_q=5, start_P=0, D=1, start_Q=0, max_P=5, max_D=5, max_Q=5, m=7, seasonal=True, error_action='warn',trace = True, supress_warnings=True, stepwise=True, random_state=20, n_fits=50)"
   ]
  },
  {
   "cell_type": "code",
   "execution_count": null,
   "metadata": {},
   "outputs": [],
   "source": [
    "arima_model_bgta_fallecidos.summary()"
   ]
  },
  {
   "cell_type": "code",
   "execution_count": null,
   "metadata": {},
   "outputs": [],
   "source": [
    "fechas_pred_corto= pd.date_range(start='2020-08-27',periods=15)\n",
    "fechas_pred_corto = pd.DataFrame(fechas_pred_corto)\n",
    "fechas_pred_corto.columns = ['fecha_pred'] \n",
    "fechas_pred_corto = fechas_pred_corto.set_index('fecha_pred')"
   ]
  },
  {
   "cell_type": "code",
   "execution_count": null,
   "metadata": {},
   "outputs": [],
   "source": [
    "prediction_bgta_fallecidos_corto = pd.DataFrame(arima_model_bgta_fallecidos.predict(n_periods=15), index=fechas_pred_corto.index)\n",
    "prediction_bgta_fallecidos_corto.columns=['pred_casos_fallecidos_bgta_corto']\n",
    "prediction_bgta_fallecidos_corto= pd.DataFrame(prediction_bgta_fallecidos_corto)"
   ]
  },
  {
   "cell_type": "code",
   "execution_count": null,
   "metadata": {},
   "outputs": [],
   "source": [
    "prediction_bgta_fallecidos_corto.index = prediction_bgta_fallecidos_corto.index.strftime('%Y-%m-%d')"
   ]
  },
  {
   "cell_type": "code",
   "execution_count": null,
   "metadata": {},
   "outputs": [],
   "source": [
    "prediction_bgta_fallecidos_corto[prediction_bgta_fallecidos_corto < 0] = 0"
   ]
  },
  {
   "cell_type": "code",
   "execution_count": null,
   "metadata": {},
   "outputs": [],
   "source": [
    "plt.figure(figsize=(8,5))\n",
    "plt.plot(data_bgta_fallecidos, label='real')\n",
    "plt.plot(prediction_bgta_fallecidos_corto, label = 'predicted')\n",
    "plt.legend(loc='Left corner')\n",
    "plt.show()"
   ]
  },
  {
   "cell_type": "markdown",
   "metadata": {},
   "source": [
    "Para esta serie se ajustó un modelo ARIMA (5,1,1)(0,1,1), es decir, con cinco períodos para modelo autorregresivo, con una diferenciación de la serie, y un período del modelo de media móvil.\n",
    "\n",
    "Basta con diferenciar una vez la serie original para que ésta se convierta en estacionaria como se muestra en la siguiente gráfica.\n",
    "Por lo tanto, el modelo con una diferenciación que escogió el AUTOARIMA es un modelo válido para pronosticar en los datos de interés.\n"
   ]
  },
  {
   "cell_type": "code",
   "execution_count": null,
   "metadata": {},
   "outputs": [],
   "source": [
    "data_bgta_fallecidos_diff = data_bgta_fallecidos.diff(periods=1)\n",
    "data_bgta_fallecidos_diff.plot()"
   ]
  },
  {
   "cell_type": "markdown",
   "metadata": {},
   "source": [
    "## **Ciudad Cali**"
   ]
  },
  {
   "cell_type": "markdown",
   "metadata": {},
   "source": [
    "### **Casos Activos**"
   ]
  },
  {
   "cell_type": "code",
   "execution_count": null,
   "metadata": {},
   "outputs": [],
   "source": [
    "data_cali = data[data['ciudad_de_ubicaci_n']=='Cali']"
   ]
  },
  {
   "cell_type": "code",
   "execution_count": null,
   "metadata": {},
   "outputs": [],
   "source": [
    "data_cali_activos = data_cali[['fecha_reporte_web','casos_activos']]\n",
    "data_cali_activos"
   ]
  },
  {
   "cell_type": "code",
   "execution_count": null,
   "metadata": {},
   "outputs": [],
   "source": [
    "data_cali_activos = data_cali_activos.set_index('fecha_reporte_web')\n",
    "data_cali_activos.plot()"
   ]
  },
  {
   "cell_type": "code",
   "execution_count": null,
   "metadata": {},
   "outputs": [],
   "source": [
    "train_cali_activos = data_cali_activos[:121]\n",
    "test_cali_activos = data_cali_activos[122:]"
   ]
  },
  {
   "cell_type": "code",
   "execution_count": null,
   "metadata": {},
   "outputs": [],
   "source": [
    "arima_model_cali_activos= auto_arima(data_cali_activos, start_p=0, d=1, start_q=0, max_p=5, max_d=5,max_q=5, start_P=0, D=1, start_Q=0, max_P=5, max_D=5, max_Q=5, m=7, seasonal=True, error_action='warn',trace = True, supress_warnings=True, stepwise=True, random_state=20, n_fits=50)"
   ]
  },
  {
   "cell_type": "code",
   "execution_count": null,
   "metadata": {},
   "outputs": [],
   "source": [
    "arima_model_cali_activos.summary()"
   ]
  },
  {
   "cell_type": "code",
   "execution_count": null,
   "metadata": {},
   "outputs": [],
   "source": [
    "fechas_pred_corto= pd.date_range(start='2020-08-27',periods=15)\n",
    "fechas_pred_corto = pd.DataFrame(fechas_pred_corto)\n",
    "fechas_pred_corto.columns = ['fecha_pred'] \n",
    "fechas_pred_corto = fechas_pred_corto.set_index('fecha_pred')"
   ]
  },
  {
   "cell_type": "code",
   "execution_count": null,
   "metadata": {},
   "outputs": [],
   "source": [
    "prediction_cali_activos_corto = pd.DataFrame(arima_model_cali_activos.predict(n_periods=15), index=fechas_pred_corto.index)\n",
    "prediction_cali_activos_corto.columns=['pred_casos_activos_cali_corto']\n",
    "prediction_cali_activos_corto= pd.DataFrame(prediction_cali_activos_corto)\n"
   ]
  },
  {
   "cell_type": "code",
   "execution_count": null,
   "metadata": {},
   "outputs": [],
   "source": [
    "prediction_cali_activos_corto.index = prediction_cali_activos_corto.index.strftime('%Y-%m-%d')"
   ]
  },
  {
   "cell_type": "code",
   "execution_count": null,
   "metadata": {},
   "outputs": [],
   "source": [
    "plt.figure(figsize=(8,5))\n",
    "plt.plot(data_cali_activos, label='real')\n",
    "plt.plot(prediction_cali_activos_corto, label = 'predicted')\n",
    "plt.legend(loc='Left corner')\n",
    "plt.show()\n"
   ]
  },
  {
   "cell_type": "markdown",
   "metadata": {},
   "source": [
    "Para esta serie se ajustó un modelo ARIMA (3,1,2)(2,1,0), es decir, con tres períodos para modelo autorregresivo, con una diferenciación de la serie, y con dos período del modelo de media móvil.\n",
    "\n",
    "Basta con diferenciar una vez la serie original para que ésta se convierta en estacionaria como se muestra en la siguiente gráfica.\n",
    "Por lo tanto, el modelo con una diferenciación que escogió el AUTOARIMA es un modelo válido para pronosticar en los datos de interés."
   ]
  },
  {
   "cell_type": "code",
   "execution_count": null,
   "metadata": {},
   "outputs": [],
   "source": [
    "data_cali_activos_diff = data_cali_activos.diff(periods=1)\n",
    "data_cali_activos_diff.plot()\n"
   ]
  },
  {
   "cell_type": "markdown",
   "metadata": {},
   "source": [
    "### **Casos Confirmados**"
   ]
  },
  {
   "cell_type": "code",
   "execution_count": null,
   "metadata": {},
   "outputs": [],
   "source": [
    "data_cali_confirmados = data_cali[['fecha_reporte_web','conteo_confirmados']]\n",
    "data_cali_confirmados"
   ]
  },
  {
   "cell_type": "code",
   "execution_count": null,
   "metadata": {},
   "outputs": [],
   "source": [
    "data_cali_confirmados = data_cali_confirmados.set_index('fecha_reporte_web')\n",
    "data_cali_confirmados.plot()"
   ]
  },
  {
   "cell_type": "code",
   "execution_count": null,
   "metadata": {},
   "outputs": [],
   "source": [
    "train_cali_confirmados = data_cali_confirmados[:121]\n",
    "test_cali_confirmados = data_cali_confirmados[122:]"
   ]
  },
  {
   "cell_type": "code",
   "execution_count": null,
   "metadata": {},
   "outputs": [],
   "source": [
    "arima_model_cali_confirmados= auto_arima(data_cali_confirmados, start_p=0, d=1, start_q=0, max_p=5, max_d=5,max_q=5, start_P=0, D=1, start_Q=0, max_P=5, max_D=5, max_Q=5, m=7, seasonal=True, error_action='warn',trace = True, supress_warnings=True, stepwise=True, random_state=20, n_fits=50)"
   ]
  },
  {
   "cell_type": "code",
   "execution_count": null,
   "metadata": {},
   "outputs": [],
   "source": [
    "arima_model_cali_confirmados.summary()"
   ]
  },
  {
   "cell_type": "code",
   "execution_count": null,
   "metadata": {},
   "outputs": [],
   "source": [
    "fechas_pred_corto= pd.date_range(start='2020-08-27',periods=15)\n",
    "fechas_pred_corto = pd.DataFrame(fechas_pred_corto)\n",
    "fechas_pred_corto.columns = ['fecha_pred'] \n",
    "fechas_pred_corto = fechas_pred_corto.set_index('fecha_pred')"
   ]
  },
  {
   "cell_type": "code",
   "execution_count": null,
   "metadata": {},
   "outputs": [],
   "source": [
    "prediction_cali_confirmados_corto = pd.DataFrame(arima_model_cali_confirmados.predict(n_periods=15), index=fechas_pred_corto.index)\n",
    "prediction_cali_confirmados_corto.columns=['pred_casos_confirmados_cali_corto']\n",
    "prediction_cali_confirmados_corto= pd.DataFrame(prediction_cali_confirmados_corto)"
   ]
  },
  {
   "cell_type": "code",
   "execution_count": null,
   "metadata": {},
   "outputs": [],
   "source": [
    "prediction_cali_confirmados_corto.index = prediction_cali_confirmados_corto.index.strftime('%Y-%m-%d')"
   ]
  },
  {
   "cell_type": "code",
   "execution_count": null,
   "metadata": {},
   "outputs": [],
   "source": [
    "plt.figure(figsize=(8,5))\n",
    "plt.plot(data_cali_confirmados, label='real')\n",
    "plt.plot(prediction_cali_confirmados_corto, label = 'predicted')\n",
    "plt.legend(loc='Left corner')\n",
    "plt.show()"
   ]
  },
  {
   "cell_type": "markdown",
   "metadata": {},
   "source": [
    "Para esta serie se ajustó un modelo ARIMA (0,1,1)(0,1,5), es decir, con cero períodos para modelo autorregresivo, con una diferenciación de la serie, y con un período del modelo de media móvil.\n",
    "\n",
    "Basta con diferenciar una vez la serie original para que ésta se convierta en estacionaria como se muestra en la siguiente gráfica.\n",
    "Por lo tanto, el modelo con una diferenciación que escogió el AUTOARIMA es un modelo válido para pronosticar en los datos de interés."
   ]
  },
  {
   "cell_type": "code",
   "execution_count": null,
   "metadata": {},
   "outputs": [],
   "source": [
    "data_cali_confirmados_diff = data_cali_confirmados.diff(periods=1)\n",
    "data_cali_confirmados_diff.plot()"
   ]
  },
  {
   "cell_type": "markdown",
   "metadata": {},
   "source": [
    "### **Casos Recuperados**"
   ]
  },
  {
   "cell_type": "code",
   "execution_count": null,
   "metadata": {},
   "outputs": [],
   "source": [
    "data_cali_recuperados = data_cali[['fecha_reporte_web','conteo_recuperado']]\n",
    "data_cali_recuperados"
   ]
  },
  {
   "cell_type": "code",
   "execution_count": null,
   "metadata": {},
   "outputs": [],
   "source": [
    "data_cali_recuperados = data_cali_recuperados.set_index('fecha_reporte_web')\n",
    "data_cali_recuperados.plot()"
   ]
  },
  {
   "cell_type": "code",
   "execution_count": null,
   "metadata": {},
   "outputs": [],
   "source": [
    "train_cali_recuperados = data_cali_recuperados[:121]\n",
    "test_cali_recuperados = data_cali_recuperados[122:]"
   ]
  },
  {
   "cell_type": "code",
   "execution_count": null,
   "metadata": {},
   "outputs": [],
   "source": [
    "arima_model_cali_recuperados= auto_arima(data_cali_recuperados, start_p=0, d=1, start_q=0, max_p=5, max_d=5,max_q=5, start_P=0, D=1, start_Q=0, max_P=5, max_D=5, max_Q=5, m=7, seasonal=True, error_action='warn',trace = True, supress_warnings=True, stepwise=True, random_state=20, n_fits=50)"
   ]
  },
  {
   "cell_type": "code",
   "execution_count": null,
   "metadata": {},
   "outputs": [],
   "source": [
    "arima_model_cali_recuperados.summary()"
   ]
  },
  {
   "cell_type": "code",
   "execution_count": null,
   "metadata": {},
   "outputs": [],
   "source": [
    "fechas_pred_corto= pd.date_range(start='2020-08-27',periods=15)\n",
    "fechas_pred_corto = pd.DataFrame(fechas_pred_corto)\n",
    "fechas_pred_corto.columns = ['fecha_pred'] \n",
    "fechas_pred_corto = fechas_pred_corto.set_index('fecha_pred')"
   ]
  },
  {
   "cell_type": "code",
   "execution_count": null,
   "metadata": {},
   "outputs": [],
   "source": [
    "prediction_cali_recuperados_corto = pd.DataFrame(arima_model_cali_recuperados.predict(n_periods=15), index=fechas_pred_corto.index)\n",
    "prediction_cali_recuperados_corto.columns=['pred_casos_recuperados_cali_corto']\n",
    "prediction_cali_recuperados_corto= pd.DataFrame(prediction_cali_recuperados_corto)"
   ]
  },
  {
   "cell_type": "code",
   "execution_count": null,
   "metadata": {},
   "outputs": [],
   "source": [
    "prediction_cali_recuperados_corto.index = prediction_cali_recuperados_corto.index.strftime('%Y-%m-%d')"
   ]
  },
  {
   "cell_type": "code",
   "execution_count": null,
   "metadata": {},
   "outputs": [],
   "source": [
    "prediction_cali_recuperados_corto[prediction_cali_recuperados_corto < 0] = 0"
   ]
  },
  {
   "cell_type": "code",
   "execution_count": null,
   "metadata": {},
   "outputs": [],
   "source": [
    "plt.figure(figsize=(8,5))\n",
    "plt.plot(data_cali_recuperados, label='real')\n",
    "plt.plot(prediction_cali_recuperados_corto, label = 'predicted')\n",
    "plt.legend(loc='Left corner')\n",
    "plt.show()"
   ]
  },
  {
   "cell_type": "markdown",
   "metadata": {},
   "source": [
    "Para esta serie se ajustó un modelo ARIMA (1,1,2)(1,1,4), es decir, con un período para modelo autorregresivo, con una diferenciación de la serie, y con dos período del modelo de media móvil.\n",
    "\n",
    "Basta con diferenciar una vez la serie original para que ésta se convierta en estacionaria como se muestra en la siguiente gráfica.\n",
    "Por lo tanto, el modelo con una diferenciación que escogió el AUTOARIMA es un modelo válido para pronosticar en los datos de interés."
   ]
  },
  {
   "cell_type": "code",
   "execution_count": null,
   "metadata": {},
   "outputs": [],
   "source": [
    "data_cali_recuperados_diff = data_cali_recuperados.diff(periods=1)\n",
    "data_cali_recuperados_diff.plot()"
   ]
  },
  {
   "cell_type": "markdown",
   "metadata": {},
   "source": [
    "### **Casos Fallecidos**"
   ]
  },
  {
   "cell_type": "code",
   "execution_count": null,
   "metadata": {},
   "outputs": [],
   "source": [
    "data_cali_fallecidos = data_cali[['fecha_reporte_web','conteo_fallecidos']]\n",
    "data_cali_fallecidos"
   ]
  },
  {
   "cell_type": "code",
   "execution_count": null,
   "metadata": {},
   "outputs": [],
   "source": [
    "data_cali_fallecidos = data_cali_fallecidos.set_index('fecha_reporte_web')\n",
    "data_cali_fallecidos.plot()"
   ]
  },
  {
   "cell_type": "code",
   "execution_count": null,
   "metadata": {},
   "outputs": [],
   "source": [
    "train_cali_fallecidos = data_cali_fallecidos[:121]\n",
    "test_cali_fallecidos = data_cali_fallecidos[122:]"
   ]
  },
  {
   "cell_type": "code",
   "execution_count": null,
   "metadata": {},
   "outputs": [],
   "source": [
    "arima_model_cali_fallecidos= auto_arima(data_cali_fallecidos, start_p=0, d=1, start_q=0, max_p=5, max_d=5,max_q=5, start_P=0, D=1, start_Q=0, max_P=5, max_D=5, max_Q=5, m=7, seasonal=True, error_action='warn',trace = True, supress_warnings=True, stepwise=True, random_state=20, n_fits=50)"
   ]
  },
  {
   "cell_type": "code",
   "execution_count": null,
   "metadata": {},
   "outputs": [],
   "source": [
    "arima_model_cali_fallecidos.summary()"
   ]
  },
  {
   "cell_type": "code",
   "execution_count": null,
   "metadata": {},
   "outputs": [],
   "source": [
    "fechas_pred_corto= pd.date_range(start='2020-08-27',periods=15)\n",
    "fechas_pred_corto = pd.DataFrame(fechas_pred_corto)\n",
    "fechas_pred_corto.columns = ['fecha_pred'] \n",
    "fechas_pred_corto = fechas_pred_corto.set_index('fecha_pred')"
   ]
  },
  {
   "cell_type": "code",
   "execution_count": null,
   "metadata": {},
   "outputs": [],
   "source": [
    "prediction_cali_fallecidos_corto = pd.DataFrame(arima_model_cali_fallecidos.predict(n_periods=15), index=fechas_pred_corto.index)\n",
    "prediction_cali_fallecidos_corto.columns=['pred_casos_fallecidos_cali_corto']\n",
    "prediction_cali_fallecidos_corto= pd.DataFrame(prediction_cali_fallecidos_corto)"
   ]
  },
  {
   "cell_type": "code",
   "execution_count": null,
   "metadata": {},
   "outputs": [],
   "source": [
    "prediction_cali_fallecidos_corto.index = prediction_cali_fallecidos_corto.index.strftime('%Y-%m-%d')"
   ]
  },
  {
   "cell_type": "code",
   "execution_count": null,
   "metadata": {},
   "outputs": [],
   "source": [
    "prediction_cali_fallecidos_corto[prediction_cali_fallecidos_corto < 0] = 0"
   ]
  },
  {
   "cell_type": "code",
   "execution_count": null,
   "metadata": {},
   "outputs": [],
   "source": [
    "plt.figure(figsize=(8,5))\n",
    "plt.plot(data_cali_fallecidos, label='real')\n",
    "plt.plot(prediction_cali_fallecidos_corto, label = 'predicted')\n",
    "plt.legend(loc='Left corner')\n",
    "plt.show()"
   ]
  },
  {
   "cell_type": "markdown",
   "metadata": {},
   "source": [
    "Para esta serie se ajustó un modelo ARIMA (0,1,1)(0,1,1), es decir, con cero períodos para modelo autorregresivo, con una diferenciación de la serie, y con un período del modelo de media móvil.\n",
    "\n",
    "Basta con diferenciar una vez la serie original para que ésta se convierta en estacionaria como se muestra en la siguiente gráfica.\n",
    "Por lo tanto, el modelo con una diferenciación que escogió el AUTOARIMA es un modelo válido para pronosticar en los datos de interés."
   ]
  },
  {
   "cell_type": "code",
   "execution_count": null,
   "metadata": {},
   "outputs": [],
   "source": [
    "data_cali_fallecidos_diff = data_cali_fallecidos.diff(periods=1)\n",
    "data_cali_fallecidos_diff.plot()"
   ]
  },
  {
   "cell_type": "markdown",
   "metadata": {},
   "source": [
    "## **Ciudad Cartagena de Indias**"
   ]
  },
  {
   "cell_type": "markdown",
   "metadata": {},
   "source": [
    "### **Casos Activos**"
   ]
  },
  {
   "cell_type": "code",
   "execution_count": null,
   "metadata": {},
   "outputs": [],
   "source": [
    "data_cartagena = data[data['ciudad_de_ubicaci_n']=='Cartagena de Indias']"
   ]
  },
  {
   "cell_type": "code",
   "execution_count": null,
   "metadata": {},
   "outputs": [],
   "source": [
    "data_cartagena_activos = data_cartagena[['fecha_reporte_web','casos_activos']]\n",
    "data_cartagena_activos"
   ]
  },
  {
   "cell_type": "code",
   "execution_count": null,
   "metadata": {},
   "outputs": [],
   "source": [
    "data_cartagena_activos = data_cartagena_activos.set_index('fecha_reporte_web')\n",
    "data_cartagena_activos.plot()"
   ]
  },
  {
   "cell_type": "code",
   "execution_count": null,
   "metadata": {},
   "outputs": [],
   "source": [
    "train_cartagena_activos = data_cartagena_activos[:121]\n",
    "test_cartagena_activos = data_cartagena_activos[122:]"
   ]
  },
  {
   "cell_type": "code",
   "execution_count": null,
   "metadata": {},
   "outputs": [],
   "source": [
    "arima_model_cartagena_activos= auto_arima(data_cartagena_activos, start_p=0, d=1, start_q=0, max_p=5, max_d=5,max_q=5, start_P=0, D=1, start_Q=0, max_P=5, max_D=5, max_Q=5, m=7, seasonal=True, error_action='warn',trace = True, supress_warnings=True, stepwise=True, random_state=20, n_fits=50)"
   ]
  },
  {
   "cell_type": "code",
   "execution_count": null,
   "metadata": {},
   "outputs": [],
   "source": [
    "arima_model_cartagena_activos.summary()"
   ]
  },
  {
   "cell_type": "code",
   "execution_count": null,
   "metadata": {},
   "outputs": [],
   "source": [
    "fechas_pred_corto= pd.date_range(start='2020-08-27',periods=15)\n",
    "fechas_pred_corto = pd.DataFrame(fechas_pred_corto)\n",
    "fechas_pred_corto.columns = ['fecha_pred'] \n",
    "fechas_pred_corto = fechas_pred_corto.set_index('fecha_pred')"
   ]
  },
  {
   "cell_type": "code",
   "execution_count": null,
   "metadata": {},
   "outputs": [],
   "source": [
    "prediction_cartagena_activos_corto = pd.DataFrame(arima_model_cartagena_activos.predict(n_periods=15), index=fechas_pred_corto.index)\n",
    "prediction_cartagena_activos_corto.columns=['pred_casos_activos_cartagena_corto']\n",
    "prediction_cartagena_activos_corto= pd.DataFrame(prediction_cartagena_activos_corto)"
   ]
  },
  {
   "cell_type": "code",
   "execution_count": null,
   "metadata": {},
   "outputs": [],
   "source": [
    "prediction_cartagena_activos_corto.index = prediction_cartagena_activos_corto.index.strftime('%Y-%m-%d')"
   ]
  },
  {
   "cell_type": "code",
   "execution_count": null,
   "metadata": {},
   "outputs": [],
   "source": [
    "plt.figure(figsize=(8,5))\n",
    "plt.plot(data_cartagena_activos, label='real')\n",
    "plt.plot(prediction_cartagena_activos_corto, label = 'predicted')\n",
    "plt.legend(loc='Left corner')\n",
    "plt.show()"
   ]
  },
  {
   "cell_type": "markdown",
   "metadata": {},
   "source": [
    "Para esta serie se ajustó un modelo ARIMA (5,1,0)(0,1,0), es decir, con cinco períodos para modelo autorregresivo, con una diferenciación de la serie, y cero períodos del modelo de media móvil.\n",
    "\n",
    "Basta con diferenciar una vez la serie original para que ésta se convierta en estacionaria como se muestra en la siguiente gráfica.\n",
    "Por lo tanto, el modelo con una diferenciación que escogió el AUTOARIMA es un modelo válido para pronosticar en los datos de interés."
   ]
  },
  {
   "cell_type": "code",
   "execution_count": null,
   "metadata": {},
   "outputs": [],
   "source": [
    "data_cartagena_activos_diff = data_cartagena_activos.diff(periods=1)\n",
    "data_cartagena_activos_diff.plot()"
   ]
  },
  {
   "cell_type": "markdown",
   "metadata": {},
   "source": [
    "### **Casos Confirmados**"
   ]
  },
  {
   "cell_type": "code",
   "execution_count": null,
   "metadata": {},
   "outputs": [],
   "source": [
    "data_cartagena_confirmados = data_cartagena[['fecha_reporte_web','conteo_confirmados']]\n",
    "data_cartagena_confirmados"
   ]
  },
  {
   "cell_type": "code",
   "execution_count": null,
   "metadata": {},
   "outputs": [],
   "source": [
    "data_cartagena_confirmados = data_cartagena_confirmados.set_index('fecha_reporte_web')\n",
    "data_cartagena_confirmados.plot()"
   ]
  },
  {
   "cell_type": "code",
   "execution_count": null,
   "metadata": {},
   "outputs": [],
   "source": [
    "train_cartagena_confirmados = data_cartagena_confirmados[:121]\n",
    "test_cartagena_confirmados = data_cartagena_confirmados[122:]"
   ]
  },
  {
   "cell_type": "code",
   "execution_count": null,
   "metadata": {},
   "outputs": [],
   "source": [
    "arima_model_cartagena_confirmados= auto_arima(data_cartagena_confirmados, start_p=0, d=1, start_q=0, max_p=5, max_d=5,max_q=5, start_P=0, D=1, start_Q=0, max_P=5, max_D=5, max_Q=5, m=7, seasonal=True, error_action='warn',trace = True, supress_warnings=True, stepwise=True, random_state=20, n_fits=50)"
   ]
  },
  {
   "cell_type": "code",
   "execution_count": null,
   "metadata": {},
   "outputs": [],
   "source": [
    "arima_model_cartagena_confirmados.summary()"
   ]
  },
  {
   "cell_type": "code",
   "execution_count": null,
   "metadata": {},
   "outputs": [],
   "source": [
    "fechas_pred_corto= pd.date_range(start='2020-08-27',periods=15)\n",
    "fechas_pred_corto = pd.DataFrame(fechas_pred_corto)\n",
    "fechas_pred_corto.columns = ['fecha_pred'] \n",
    "fechas_pred_corto = fechas_pred_corto.set_index('fecha_pred')"
   ]
  },
  {
   "cell_type": "code",
   "execution_count": null,
   "metadata": {},
   "outputs": [],
   "source": [
    "prediction_cartagena_confirmados_corto = pd.DataFrame(arima_model_cartagena_confirmados.predict(n_periods=15), index=fechas_pred_corto.index)\n",
    "prediction_cartagena_confirmados_corto.columns=['pred_casos_confirmados_cartagena_corto']\n",
    "prediction_cartagena_confirmados_corto= pd.DataFrame(prediction_cartagena_confirmados_corto)"
   ]
  },
  {
   "cell_type": "code",
   "execution_count": null,
   "metadata": {},
   "outputs": [],
   "source": [
    "prediction_cartagena_confirmados_corto.index = prediction_cartagena_confirmados_corto.index.strftime('%Y-%m-%d')"
   ]
  },
  {
   "cell_type": "code",
   "execution_count": null,
   "metadata": {},
   "outputs": [],
   "source": [
    "plt.figure(figsize=(8,5))\n",
    "plt.plot(data_cartagena_confirmados, label='real')\n",
    "plt.plot(prediction_cartagena_confirmados_corto, label = 'predicted')\n",
    "plt.legend(loc='Left corner')\n",
    "plt.show()"
   ]
  },
  {
   "cell_type": "markdown",
   "metadata": {},
   "source": [
    "Para esta serie se ajustó un modelo ARIMA (4,1,0)(4,1,0), es decir, con cuatro períodos para modelo autorregresivo, con una diferenciación de la serie, y cero períodos del modelo de media móvil.\n",
    "\n",
    "Basta con diferenciar una vez la serie original para que ésta se convierta en estacionaria como se muestra en la siguiente gráfica.\n",
    "Por lo tanto, el modelo con una diferenciación que escogió el AUTOARIMA es un modelo válido para pronosticar en los datos de interés."
   ]
  },
  {
   "cell_type": "code",
   "execution_count": null,
   "metadata": {},
   "outputs": [],
   "source": [
    "data_cartagena_confirmados_diff = data_cartagena_confirmados.diff(periods=1)\n",
    "data_cartagena_confirmados_diff.plot()"
   ]
  },
  {
   "cell_type": "markdown",
   "metadata": {},
   "source": [
    "### **Casos Recuperados**"
   ]
  },
  {
   "cell_type": "code",
   "execution_count": null,
   "metadata": {},
   "outputs": [],
   "source": [
    "data_cartagena_recuperados = data_cartagena[['fecha_reporte_web','conteo_recuperado']]\n",
    "data_cartagena_recuperados"
   ]
  },
  {
   "cell_type": "code",
   "execution_count": null,
   "metadata": {},
   "outputs": [],
   "source": [
    "data_cartagena_recuperados = data_cartagena_recuperados.set_index('fecha_reporte_web')\n",
    "data_cartagena_recuperados.plot()"
   ]
  },
  {
   "cell_type": "code",
   "execution_count": null,
   "metadata": {},
   "outputs": [],
   "source": [
    "train_cartagena_recuperados = data_cartagena_recuperados[:121]\n",
    "test_cartagena_recuperados = data_cartagena_recuperados[122:]"
   ]
  },
  {
   "cell_type": "code",
   "execution_count": null,
   "metadata": {},
   "outputs": [],
   "source": [
    "arima_model_cartagena_recuperados= auto_arima(data_cartagena_recuperados, start_p=0, d=1, start_q=0, max_p=5, max_d=5,max_q=5, start_P=0, D=1, start_Q=0, max_P=5, max_D=5, max_Q=5, m=7, seasonal=True, error_action='warn',trace = True, supress_warnings=True, stepwise=True, random_state=20, n_fits=50)"
   ]
  },
  {
   "cell_type": "code",
   "execution_count": null,
   "metadata": {},
   "outputs": [],
   "source": [
    "arima_model_cartagena_recuperados.summary()"
   ]
  },
  {
   "cell_type": "code",
   "execution_count": null,
   "metadata": {},
   "outputs": [],
   "source": [
    "fechas_pred_corto= pd.date_range(start='2020-08-27',periods=15)\n",
    "fechas_pred_corto = pd.DataFrame(fechas_pred_corto)\n",
    "fechas_pred_corto.columns = ['fecha_pred'] \n",
    "fechas_pred_corto = fechas_pred_corto.set_index('fecha_pred')"
   ]
  },
  {
   "cell_type": "code",
   "execution_count": null,
   "metadata": {},
   "outputs": [],
   "source": [
    "prediction_cartagena_recuperados_corto = pd.DataFrame(arima_model_cartagena_recuperados.predict(n_periods=15), index=fechas_pred_corto.index)\n",
    "prediction_cartagena_recuperados_corto.columns=['pred_casos_recuperados_cartagena_corto']\n",
    "prediction_cartagena_recuperados_corto= pd.DataFrame(prediction_cartagena_recuperados_corto)"
   ]
  },
  {
   "cell_type": "code",
   "execution_count": null,
   "metadata": {},
   "outputs": [],
   "source": [
    "prediction_cartagena_recuperados_corto.index = prediction_cartagena_recuperados_corto.index.strftime('%Y-%m-%d')"
   ]
  },
  {
   "cell_type": "code",
   "execution_count": null,
   "metadata": {},
   "outputs": [],
   "source": [
    "prediction_cartagena_recuperados_corto[prediction_cartagena_recuperados_corto < 0] = 0"
   ]
  },
  {
   "cell_type": "code",
   "execution_count": null,
   "metadata": {},
   "outputs": [],
   "source": [
    "plt.figure(figsize=(8,5))\n",
    "plt.plot(data_cartagena_recuperados, label='real')\n",
    "plt.plot(prediction_cartagena_recuperados_corto, label = 'predicted')\n",
    "plt.legend(loc='Left corner')\n",
    "plt.show()"
   ]
  },
  {
   "cell_type": "markdown",
   "metadata": {},
   "source": [
    "Para esta serie se ajustó un modelo ARIMA (0,1,1)(2,1,1), es decir, con cero períodos para modelo autorregresivo, con una diferenciación de la serie, y con un período del modelo de media móvil.\n",
    "\n",
    "Basta con diferenciar una vez la serie original para que ésta se convierta en estacionaria como se muestra en la siguiente gráfica.\n",
    "Por lo tanto, el modelo con una diferenciación que escogió el AUTOARIMA es un modelo válido para pronosticar en los datos de interés."
   ]
  },
  {
   "cell_type": "code",
   "execution_count": null,
   "metadata": {},
   "outputs": [],
   "source": [
    "data_cartagena_recuperados_diff = data_cartagena_recuperados.diff(periods=1)\n",
    "data_cartagena_recuperados_diff.plot()"
   ]
  },
  {
   "cell_type": "markdown",
   "metadata": {},
   "source": [
    "### **Casos Fallecidos**"
   ]
  },
  {
   "cell_type": "code",
   "execution_count": null,
   "metadata": {},
   "outputs": [],
   "source": [
    "data_cartagena_fallecidos = data_cartagena[['fecha_reporte_web','conteo_fallecidos']]\n",
    "data_cartagena_fallecidos"
   ]
  },
  {
   "cell_type": "code",
   "execution_count": null,
   "metadata": {},
   "outputs": [],
   "source": [
    "data_cartagena_fallecidos = data_cartagena_fallecidos.set_index('fecha_reporte_web')\n",
    "data_cartagena_fallecidos.plot()"
   ]
  },
  {
   "cell_type": "code",
   "execution_count": null,
   "metadata": {},
   "outputs": [],
   "source": [
    "train_cartagena_fallecidos = data_cartagena_fallecidos[:121]\n",
    "test_cartagena_fallecidos = data_cartagena_fallecidos[122:]"
   ]
  },
  {
   "cell_type": "code",
   "execution_count": null,
   "metadata": {},
   "outputs": [],
   "source": [
    "arima_model_cartagena_fallecidos= auto_arima(data_cartagena_fallecidos, start_p=0, d=1, start_q=0, max_p=5, max_d=5,max_q=5, start_P=0, D=1, start_Q=0, max_P=5, max_D=5, max_Q=5, m=7, seasonal=True, error_action='warn',trace = True, supress_warnings=True, stepwise=True, random_state=20, n_fits=50)"
   ]
  },
  {
   "cell_type": "code",
   "execution_count": null,
   "metadata": {},
   "outputs": [],
   "source": [
    "arima_model_cartagena_fallecidos.summary()"
   ]
  },
  {
   "cell_type": "code",
   "execution_count": null,
   "metadata": {},
   "outputs": [],
   "source": [
    "fechas_pred_corto= pd.date_range(start='2020-08-27',periods=15)\n",
    "fechas_pred_corto = pd.DataFrame(fechas_pred_corto)\n",
    "fechas_pred_corto.columns = ['fecha_pred'] \n",
    "fechas_pred_corto = fechas_pred_corto.set_index('fecha_pred')"
   ]
  },
  {
   "cell_type": "code",
   "execution_count": null,
   "metadata": {},
   "outputs": [],
   "source": [
    "prediction_cartagena_fallecidos_corto = pd.DataFrame(arima_model_cartagena_fallecidos.predict(n_periods=15), index=fechas_pred_corto.index)\n",
    "prediction_cartagena_fallecidos_corto.columns=['pred_casos_fallecidos_cartagena_corto']\n",
    "prediction_cartagena_fallecidos_corto= pd.DataFrame(prediction_cartagena_fallecidos_corto)"
   ]
  },
  {
   "cell_type": "code",
   "execution_count": null,
   "metadata": {},
   "outputs": [],
   "source": [
    "prediction_cartagena_fallecidos_corto.index = prediction_cartagena_fallecidos_corto.index.strftime('%Y-%m-%d')"
   ]
  },
  {
   "cell_type": "code",
   "execution_count": null,
   "metadata": {},
   "outputs": [],
   "source": [
    "prediction_cartagena_fallecidos_corto[prediction_cartagena_fallecidos_corto< 0] = 0"
   ]
  },
  {
   "cell_type": "code",
   "execution_count": null,
   "metadata": {},
   "outputs": [],
   "source": [
    "plt.figure(figsize=(8,5))\n",
    "plt.plot(data_cartagena_fallecidos, label='real')\n",
    "plt.plot(prediction_cartagena_fallecidos_corto, label = 'predicted')\n",
    "plt.legend(loc='Left corner')\n",
    "plt.show()"
   ]
  },
  {
   "cell_type": "markdown",
   "metadata": {},
   "source": [
    "Para esta serie se ajustó un modelo ARIMA (4,1,1)(5,1,1), es decir, con cuatro períodos para modelo autorregresivo, con una diferenciación de la serie, y con un período del modelo de media móvil.\n",
    "\n",
    "Basta con diferenciar una vez la serie original para que ésta se convierta en estacionaria como se muestra en la siguiente gráfica.\n",
    "Por lo tanto, el modelo con una diferenciación que escogió el AUTOARIMA es un modelo válido para pronosticar en los datos de interés."
   ]
  },
  {
   "cell_type": "code",
   "execution_count": null,
   "metadata": {},
   "outputs": [],
   "source": [
    "data_cartagena_fallecidos_diff = data_cartagena_fallecidos.diff(periods=1)\n",
    "data_cartagena_fallecidos_diff.plot()"
   ]
  },
  {
   "cell_type": "markdown",
   "metadata": {},
   "source": [
    "## **Ciudad Barranquilla**"
   ]
  },
  {
   "cell_type": "markdown",
   "metadata": {},
   "source": [
    "### **Casos Activos**"
   ]
  },
  {
   "cell_type": "code",
   "execution_count": null,
   "metadata": {},
   "outputs": [],
   "source": [
    "data_barranquilla = data[data['ciudad_de_ubicaci_n']=='Barranquilla']"
   ]
  },
  {
   "cell_type": "code",
   "execution_count": null,
   "metadata": {},
   "outputs": [],
   "source": [
    "data_barranquilla_activos = data_barranquilla[['fecha_reporte_web','casos_activos']]\n",
    "data_barranquilla_activos"
   ]
  },
  {
   "cell_type": "code",
   "execution_count": null,
   "metadata": {},
   "outputs": [],
   "source": [
    "data_barranquilla_activos = data_barranquilla_activos.set_index('fecha_reporte_web')\n",
    "data_barranquilla_activos.plot()"
   ]
  },
  {
   "cell_type": "code",
   "execution_count": null,
   "metadata": {},
   "outputs": [],
   "source": [
    "train_barranquilla_activos = data_barranquilla_activos[:121]\n",
    "test_barranquilla_activos = data_barranquilla_activos[122:]"
   ]
  },
  {
   "cell_type": "code",
   "execution_count": null,
   "metadata": {},
   "outputs": [],
   "source": [
    "arima_model_barranquilla_activos= auto_arima(data_barranquilla_activos, start_p=0, d=1, start_q=0, max_p=5, max_d=5,max_q=5, start_P=0, D=1, start_Q=0, max_P=5, max_D=5, max_Q=5, m=7, seasonal=True, error_action='warn',trace = True, supress_warnings=True, stepwise=True, random_state=20, n_fits=50)"
   ]
  },
  {
   "cell_type": "code",
   "execution_count": null,
   "metadata": {},
   "outputs": [],
   "source": [
    "arima_model_barranquilla_activos.summary()"
   ]
  },
  {
   "cell_type": "code",
   "execution_count": null,
   "metadata": {},
   "outputs": [],
   "source": [
    "fechas_pred_corto= pd.date_range(start='2020-08-27',periods=15)\n",
    "fechas_pred_corto = pd.DataFrame(fechas_pred_corto)\n",
    "fechas_pred_corto.columns = ['fecha_pred'] \n",
    "fechas_pred_corto = fechas_pred_corto.set_index('fecha_pred')"
   ]
  },
  {
   "cell_type": "code",
   "execution_count": null,
   "metadata": {},
   "outputs": [],
   "source": [
    "prediction_barranquilla_activos_corto = pd.DataFrame(arima_model_barranquilla_activos.predict(n_periods=15), index=fechas_pred_corto.index)\n",
    "prediction_barranquilla_activos_corto.columns=['pred_casos_activos_barranquilla_corto']\n",
    "prediction_barranquilla_activos_corto= pd.DataFrame(prediction_barranquilla_activos_corto)"
   ]
  },
  {
   "cell_type": "code",
   "execution_count": null,
   "metadata": {},
   "outputs": [],
   "source": [
    "prediction_barranquilla_activos_corto.index = prediction_barranquilla_activos_corto.index.strftime('%Y-%m-%d')"
   ]
  },
  {
   "cell_type": "code",
   "execution_count": null,
   "metadata": {},
   "outputs": [],
   "source": [
    "plt.figure(figsize=(8,5))\n",
    "plt.plot(data_barranquilla_activos, label='real')\n",
    "plt.plot(prediction_barranquilla_activos_corto, label = 'predicted')\n",
    "plt.legend(loc='Left corner')\n",
    "plt.show()"
   ]
  },
  {
   "cell_type": "markdown",
   "metadata": {},
   "source": [
    "Para esta serie se ajustó un modelo ARIMA (1,1,2)(0,1,1), es decir, con un período para modelo autorregresivo, con una diferenciación de la serie, y con dos período del modelo de media móvil.\n",
    "\n",
    "Basta con diferenciar una vez la serie original para que ésta se convierta en estacionaria como se muestra en la siguiente gráfica.\n",
    "Por lo tanto, el modelo con una diferenciación que escogió el AUTOARIMA es un modelo válido para pronosticar en los datos de interés."
   ]
  },
  {
   "cell_type": "code",
   "execution_count": null,
   "metadata": {},
   "outputs": [],
   "source": [
    "data_barranquilla_activos_diff = data_barranquilla_activos.diff(periods=1)\n",
    "data_barranquilla_activos_diff.plot()"
   ]
  },
  {
   "cell_type": "markdown",
   "metadata": {},
   "source": [
    "### **Casos Confirmados**"
   ]
  },
  {
   "cell_type": "code",
   "execution_count": null,
   "metadata": {},
   "outputs": [],
   "source": [
    "data_barranquilla_confirmados = data_barranquilla[['fecha_reporte_web','conteo_confirmados']]\n",
    "data_barranquilla_confirmados"
   ]
  },
  {
   "cell_type": "code",
   "execution_count": null,
   "metadata": {},
   "outputs": [],
   "source": [
    "data_barranquilla_confirmados = data_barranquilla_confirmados.set_index('fecha_reporte_web')\n",
    "data_barranquilla_confirmados.plot()"
   ]
  },
  {
   "cell_type": "code",
   "execution_count": null,
   "metadata": {},
   "outputs": [],
   "source": [
    "train_barranquilla_confirmados = data_barranquilla_confirmados[:121]\n",
    "test_barranquilla_confirmados = data_barranquilla_confirmados[122:]"
   ]
  },
  {
   "cell_type": "code",
   "execution_count": null,
   "metadata": {},
   "outputs": [],
   "source": [
    "arima_model_barranquilla_confirmados= auto_arima(data_barranquilla_confirmados, start_p=0, d=1, start_q=0, max_p=5, max_d=5,max_q=5, start_P=0, D=1, start_Q=0, max_P=5, max_D=5, max_Q=5, m=7, seasonal=True, error_action='warn',trace = True, supress_warnings=True, stepwise=True, random_state=20, n_fits=50)"
   ]
  },
  {
   "cell_type": "code",
   "execution_count": null,
   "metadata": {},
   "outputs": [],
   "source": [
    "arima_model_barranquilla_confirmados.summary()"
   ]
  },
  {
   "cell_type": "code",
   "execution_count": null,
   "metadata": {},
   "outputs": [],
   "source": [
    "fechas_pred_corto= pd.date_range(start='2020-08-27',periods=15)\n",
    "fechas_pred_corto = pd.DataFrame(fechas_pred_corto)\n",
    "fechas_pred_corto.columns = ['fecha_pred'] \n",
    "fechas_pred_corto = fechas_pred_corto.set_index('fecha_pred')"
   ]
  },
  {
   "cell_type": "code",
   "execution_count": null,
   "metadata": {},
   "outputs": [],
   "source": [
    "prediction_barranquilla_confirmados_corto = pd.DataFrame(arima_model_barranquilla_confirmados.predict(n_periods=15), index=fechas_pred_corto.index)\n",
    "prediction_barranquilla_confirmados_corto.columns=['pred_casos_confirmados_barranquilla_corto']\n",
    "prediction_barranquilla_confirmados_corto= pd.DataFrame(prediction_barranquilla_confirmados_corto)"
   ]
  },
  {
   "cell_type": "code",
   "execution_count": null,
   "metadata": {},
   "outputs": [],
   "source": [
    "prediction_barranquilla_confirmados_corto.index = prediction_barranquilla_confirmados_corto.index.strftime('%Y-%m-%d')"
   ]
  },
  {
   "cell_type": "code",
   "execution_count": null,
   "metadata": {},
   "outputs": [],
   "source": [
    "prediction_barranquilla_confirmados_corto[prediction_barranquilla_confirmados_corto < 0] = 0"
   ]
  },
  {
   "cell_type": "code",
   "execution_count": null,
   "metadata": {},
   "outputs": [],
   "source": [
    "plt.figure(figsize=(8,5))\n",
    "plt.plot(data_barranquilla_confirmados, label='real')\n",
    "plt.plot(prediction_barranquilla_confirmados_corto, label = 'predicted')\n",
    "plt.legend(loc='Left corner')\n",
    "plt.show()"
   ]
  },
  {
   "cell_type": "markdown",
   "metadata": {},
   "source": [
    "Para esta serie se ajustó un modelo ARIMA (1,1,1)(4,1,0), es decir, con un período para modelo autorregresivo, con una diferenciación de la serie, y con un período del modelo de media móvil.\n",
    "\n",
    "Basta con diferenciar una vez la serie original para que ésta se convierta en estacionaria como se muestra en la siguiente gráfica.\n",
    "Por lo tanto, el modelo con una diferenciación que escogió el AUTOARIMA es un modelo válido para pronosticar en los datos de interés.\n"
   ]
  },
  {
   "cell_type": "code",
   "execution_count": null,
   "metadata": {},
   "outputs": [],
   "source": [
    "data_barranquilla_confirmados_diff = data_barranquilla_confirmados.diff(periods=1)\n",
    "data_barranquilla_confirmados_diff.plot()"
   ]
  },
  {
   "cell_type": "markdown",
   "metadata": {},
   "source": [
    "### **Casos Recuperados**"
   ]
  },
  {
   "cell_type": "code",
   "execution_count": null,
   "metadata": {},
   "outputs": [],
   "source": [
    "data_barranquilla_recuperados = data_barranquilla[['fecha_reporte_web','conteo_recuperado']]\n",
    "data_barranquilla_recuperados"
   ]
  },
  {
   "cell_type": "code",
   "execution_count": null,
   "metadata": {},
   "outputs": [],
   "source": [
    "data_barranquilla_recuperados = data_barranquilla_recuperados.set_index('fecha_reporte_web')\n",
    "data_barranquilla_recuperados.plot()"
   ]
  },
  {
   "cell_type": "code",
   "execution_count": null,
   "metadata": {},
   "outputs": [],
   "source": [
    "train_barranquilla_recuperados = data_barranquilla_recuperados[:121]\n",
    "test_barranquilla_recuperados = data_barranquilla_recuperados[122:]"
   ]
  },
  {
   "cell_type": "code",
   "execution_count": null,
   "metadata": {},
   "outputs": [],
   "source": [
    "arima_model_barranquilla_recuperados= auto_arima(data_barranquilla_recuperados, start_p=0, d=1, start_q=0, max_p=5, max_d=5,max_q=5, start_P=0, D=1, start_Q=0, max_P=5, max_D=5, max_Q=5, m=7, seasonal=True, error_action='warn',trace = True, supress_warnings=True, stepwise=True, random_state=20, n_fits=50)"
   ]
  },
  {
   "cell_type": "code",
   "execution_count": null,
   "metadata": {},
   "outputs": [],
   "source": [
    "arima_model_barranquilla_recuperados.summary()"
   ]
  },
  {
   "cell_type": "code",
   "execution_count": null,
   "metadata": {},
   "outputs": [],
   "source": [
    "fechas_pred_corto= pd.date_range(start='2020-08-27',periods=15)\n",
    "fechas_pred_corto = pd.DataFrame(fechas_pred_corto)\n",
    "fechas_pred_corto.columns = ['fecha_pred'] \n",
    "fechas_pred_corto = fechas_pred_corto.set_index('fecha_pred')"
   ]
  },
  {
   "cell_type": "code",
   "execution_count": null,
   "metadata": {},
   "outputs": [],
   "source": [
    "prediction_barranquilla_recuperados_corto = pd.DataFrame(arima_model_barranquilla_recuperados.predict(n_periods=15), index=fechas_pred_corto.index)\n",
    "prediction_barranquilla_recuperados_corto.columns=['pred_casos_recuperados_barranquilla_corto']\n",
    "prediction_barranquilla_recuperados_corto= pd.DataFrame(prediction_barranquilla_recuperados_corto)"
   ]
  },
  {
   "cell_type": "code",
   "execution_count": null,
   "metadata": {},
   "outputs": [],
   "source": [
    "prediction_barranquilla_recuperados_corto.index = prediction_barranquilla_recuperados_corto.index.strftime('%Y-%m-%d')"
   ]
  },
  {
   "cell_type": "code",
   "execution_count": null,
   "metadata": {},
   "outputs": [],
   "source": [
    "prediction_barranquilla_recuperados_corto[prediction_barranquilla_recuperados_corto < 0] = 0"
   ]
  },
  {
   "cell_type": "code",
   "execution_count": null,
   "metadata": {},
   "outputs": [],
   "source": [
    "plt.figure(figsize=(8,5))\n",
    "plt.plot(data_barranquilla_recuperados, label='real')\n",
    "plt.plot(prediction_barranquilla_recuperados_corto, label = 'predicted')\n",
    "plt.legend(loc='Left corner')\n",
    "plt.show()"
   ]
  },
  {
   "cell_type": "markdown",
   "metadata": {},
   "source": [
    "Para esta serie se ajustó un modelo ARIMA (1,1,1)(4,1,0), es decir, con un período para modelo autorregresivo, con una diferenciación de la serie, y con un período del modelo de media móvil.\n",
    "\n",
    "Basta con diferenciar una vez la serie original para que ésta se convierta en estacionaria como se muestra en la siguiente gráfica.\n",
    "Por lo tanto, el modelo con una diferenciación que escogió el AUTOARIMA es un modelo válido para pronosticar en los datos de interés."
   ]
  },
  {
   "cell_type": "code",
   "execution_count": null,
   "metadata": {},
   "outputs": [],
   "source": [
    "data_barranquilla_recuperados_diff = data_barranquilla_recuperados.diff(periods=1)\n",
    "data_barranquilla_recuperados_diff.plot()"
   ]
  },
  {
   "cell_type": "markdown",
   "metadata": {},
   "source": [
    "### **Casos Fallecidos**"
   ]
  },
  {
   "cell_type": "code",
   "execution_count": null,
   "metadata": {},
   "outputs": [],
   "source": [
    "data_barranquilla_fallecidos = data_barranquilla[['fecha_reporte_web','conteo_fallecidos']]\n",
    "data_barranquilla_fallecidos"
   ]
  },
  {
   "cell_type": "code",
   "execution_count": null,
   "metadata": {},
   "outputs": [],
   "source": [
    "data_barranquilla_fallecidos = data_barranquilla_fallecidos.set_index('fecha_reporte_web')\n",
    "data_barranquilla_fallecidos.plot()"
   ]
  },
  {
   "cell_type": "code",
   "execution_count": null,
   "metadata": {},
   "outputs": [],
   "source": [
    "train_barranquilla_fallecidos = data_barranquilla_fallecidos[:121]\n",
    "test_barranquilla_fallecidos = data_barranquilla_fallecidos[122:]"
   ]
  },
  {
   "cell_type": "code",
   "execution_count": null,
   "metadata": {},
   "outputs": [],
   "source": [
    "arima_model_barranquilla_fallecidos= auto_arima(data_barranquilla_fallecidos, start_p=0, d=1, start_q=0, max_p=5, max_d=5,max_q=5, start_P=0, D=1, start_Q=0, max_P=5, max_D=5, max_Q=5, m=7, seasonal=True, error_action='warn',trace = True, supress_warnings=True, stepwise=True, random_state=20, n_fits=50)"
   ]
  },
  {
   "cell_type": "code",
   "execution_count": null,
   "metadata": {},
   "outputs": [],
   "source": [
    "arima_model_barranquilla_fallecidos.summary()"
   ]
  },
  {
   "cell_type": "code",
   "execution_count": null,
   "metadata": {},
   "outputs": [],
   "source": [
    "fechas_pred_corto= pd.date_range(start='2020-08-27',periods=15)\n",
    "fechas_pred_corto = pd.DataFrame(fechas_pred_corto)\n",
    "fechas_pred_corto.columns = ['fecha_pred'] \n",
    "fechas_pred_corto = fechas_pred_corto.set_index('fecha_pred')"
   ]
  },
  {
   "cell_type": "code",
   "execution_count": null,
   "metadata": {},
   "outputs": [],
   "source": [
    "prediction_barranquilla_fallecidos_corto = pd.DataFrame(arima_model_barranquilla_fallecidos.predict(n_periods=15), index=fechas_pred_corto.index)\n",
    "prediction_barranquilla_fallecidos_corto.columns=['pred_casos_fallecidos_barranquilla_corto']\n",
    "prediction_barranquilla_fallecidos_corto= pd.DataFrame(prediction_barranquilla_fallecidos_corto)"
   ]
  },
  {
   "cell_type": "code",
   "execution_count": null,
   "metadata": {},
   "outputs": [],
   "source": [
    "prediction_barranquilla_fallecidos_corto.index = prediction_barranquilla_fallecidos_corto.index.strftime('%Y-%m-%d')"
   ]
  },
  {
   "cell_type": "code",
   "execution_count": null,
   "metadata": {},
   "outputs": [],
   "source": [
    "prediction_barranquilla_fallecidos_corto[prediction_barranquilla_fallecidos_corto < 0] = 0"
   ]
  },
  {
   "cell_type": "code",
   "execution_count": null,
   "metadata": {},
   "outputs": [],
   "source": [
    "plt.figure(figsize=(8,5))\n",
    "plt.plot(data_barranquilla_fallecidos, label='real')\n",
    "plt.plot(prediction_barranquilla_fallecidos_corto, label = 'predicted')\n",
    "plt.legend(loc='Left corner')\n",
    "plt.show()"
   ]
  },
  {
   "cell_type": "markdown",
   "metadata": {},
   "source": [
    "Para esta serie se ajustó un modelo ARIMA (1,1,1)(5,1,0), es decir, con un período para modelo autorregresivo, con una diferenciación de la serie, y con un período del modelo de media móvil.\n",
    "\n",
    "Basta con diferenciar una vez la serie original para que ésta se convierta en estacionaria como se muestra en la siguiente gráfica.\n",
    "Por lo tanto, el modelo con una diferenciación que escogió el AUTOARIMA es un modelo válido para pronosticar en los datos de interés."
   ]
  },
  {
   "cell_type": "code",
   "execution_count": null,
   "metadata": {},
   "outputs": [],
   "source": [
    "data_barranquilla_fallecidos_diff = data_barranquilla_fallecidos.diff(periods=1)\n",
    "data_barranquilla_fallecidos_diff.plot()"
   ]
  }
 ],
 "metadata": {
  "kernelspec": {
   "display_name": "Python 3",
   "language": "python",
   "name": "python3"
  },
  "language_info": {
   "codemirror_mode": {
    "name": "ipython",
    "version": 3
   },
   "file_extension": ".py",
   "mimetype": "text/x-python",
   "name": "python",
   "nbconvert_exporter": "python",
   "pygments_lexer": "ipython3",
   "version": "3.7.3"
  }
 },
 "nbformat": 4,
 "nbformat_minor": 4
}
