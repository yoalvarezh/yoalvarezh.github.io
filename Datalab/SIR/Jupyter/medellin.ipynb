{
 "cells": [
  {
   "cell_type": "code",
   "execution_count": 1,
   "metadata": {},
   "outputs": [],
   "source": [
    "import pandas as pd\n",
    "import numpy as np"
   ]
  },
  {
   "cell_type": "code",
   "execution_count": 87,
   "metadata": {},
   "outputs": [],
   "source": [
    "df = pd.DataFrame()\n",
    "df=pd.read_csv('tasas_med.csv', sep=',')"
   ]
  },
  {
   "cell_type": "code",
   "execution_count": 99,
   "metadata": {},
   "outputs": [
    {
     "data": {
      "text/html": [
       "<div>\n",
       "<style scoped>\n",
       "    .dataframe tbody tr th:only-of-type {\n",
       "        vertical-align: middle;\n",
       "    }\n",
       "\n",
       "    .dataframe tbody tr th {\n",
       "        vertical-align: top;\n",
       "    }\n",
       "\n",
       "    .dataframe thead th {\n",
       "        text-align: right;\n",
       "    }\n",
       "</style>\n",
       "<table border=\"1\" class=\"dataframe\">\n",
       "  <thead>\n",
       "    <tr style=\"text-align: right;\">\n",
       "      <th></th>\n",
       "      <th>Unnamed: 0</th>\n",
       "      <th>Unnamed: 0.1</th>\n",
       "      <th>ciudad_de_ubicaci_n</th>\n",
       "      <th>fecha_reporte_web</th>\n",
       "      <th>conteo_confirmados</th>\n",
       "      <th>conteo_recuperado</th>\n",
       "      <th>conteo_fallecidos</th>\n",
       "      <th>casos_activos</th>\n",
       "      <th>acumulado_dia_confirmados</th>\n",
       "      <th>acumulado_dia_recuperado</th>\n",
       "      <th>acumulado_dia_fallecidos</th>\n",
       "      <th>acumulado_dia_activos</th>\n",
       "      <th>tasa_contagio</th>\n",
       "      <th>Poblacion_total</th>\n",
       "      <th>tasa_recuperados</th>\n",
       "    </tr>\n",
       "  </thead>\n",
       "  <tbody>\n",
       "    <tr>\n",
       "      <td>0</td>\n",
       "      <td>0</td>\n",
       "      <td>669</td>\n",
       "      <td>Medellín</td>\n",
       "      <td>2020-03-09</td>\n",
       "      <td>1</td>\n",
       "      <td>1.0</td>\n",
       "      <td>0.0</td>\n",
       "      <td>0.0</td>\n",
       "      <td>1</td>\n",
       "      <td>1.0</td>\n",
       "      <td>0.0</td>\n",
       "      <td>0.0</td>\n",
       "      <td>1.700000</td>\n",
       "      <td>2427129</td>\n",
       "      <td>1.000000</td>\n",
       "    </tr>\n",
       "    <tr>\n",
       "      <td>1</td>\n",
       "      <td>1</td>\n",
       "      <td>670</td>\n",
       "      <td>Medellín</td>\n",
       "      <td>2020-03-11</td>\n",
       "      <td>2</td>\n",
       "      <td>2.0</td>\n",
       "      <td>0.0</td>\n",
       "      <td>0.0</td>\n",
       "      <td>3</td>\n",
       "      <td>3.0</td>\n",
       "      <td>0.0</td>\n",
       "      <td>0.0</td>\n",
       "      <td>3.000000</td>\n",
       "      <td>2427129</td>\n",
       "      <td>1.000000</td>\n",
       "    </tr>\n",
       "    <tr>\n",
       "      <td>2</td>\n",
       "      <td>2</td>\n",
       "      <td>671</td>\n",
       "      <td>Medellín</td>\n",
       "      <td>2020-03-14</td>\n",
       "      <td>2</td>\n",
       "      <td>2.0</td>\n",
       "      <td>0.0</td>\n",
       "      <td>0.0</td>\n",
       "      <td>5</td>\n",
       "      <td>5.0</td>\n",
       "      <td>0.0</td>\n",
       "      <td>0.0</td>\n",
       "      <td>1.666667</td>\n",
       "      <td>2427129</td>\n",
       "      <td>1.000000</td>\n",
       "    </tr>\n",
       "    <tr>\n",
       "      <td>3</td>\n",
       "      <td>3</td>\n",
       "      <td>672</td>\n",
       "      <td>Medellín</td>\n",
       "      <td>2020-03-15</td>\n",
       "      <td>1</td>\n",
       "      <td>1.0</td>\n",
       "      <td>0.0</td>\n",
       "      <td>0.0</td>\n",
       "      <td>6</td>\n",
       "      <td>6.0</td>\n",
       "      <td>0.0</td>\n",
       "      <td>0.0</td>\n",
       "      <td>1.200000</td>\n",
       "      <td>2427129</td>\n",
       "      <td>1.000000</td>\n",
       "    </tr>\n",
       "    <tr>\n",
       "      <td>4</td>\n",
       "      <td>4</td>\n",
       "      <td>673</td>\n",
       "      <td>Medellín</td>\n",
       "      <td>2020-03-19</td>\n",
       "      <td>3</td>\n",
       "      <td>3.0</td>\n",
       "      <td>0.0</td>\n",
       "      <td>0.0</td>\n",
       "      <td>9</td>\n",
       "      <td>9.0</td>\n",
       "      <td>0.0</td>\n",
       "      <td>0.0</td>\n",
       "      <td>1.500000</td>\n",
       "      <td>2427129</td>\n",
       "      <td>1.000000</td>\n",
       "    </tr>\n",
       "    <tr>\n",
       "      <td>...</td>\n",
       "      <td>...</td>\n",
       "      <td>...</td>\n",
       "      <td>...</td>\n",
       "      <td>...</td>\n",
       "      <td>...</td>\n",
       "      <td>...</td>\n",
       "      <td>...</td>\n",
       "      <td>...</td>\n",
       "      <td>...</td>\n",
       "      <td>...</td>\n",
       "      <td>...</td>\n",
       "      <td>...</td>\n",
       "      <td>...</td>\n",
       "      <td>...</td>\n",
       "      <td>...</td>\n",
       "    </tr>\n",
       "    <tr>\n",
       "      <td>95</td>\n",
       "      <td>95</td>\n",
       "      <td>764</td>\n",
       "      <td>Medellín</td>\n",
       "      <td>2020-06-22</td>\n",
       "      <td>40</td>\n",
       "      <td>37.0</td>\n",
       "      <td>0.0</td>\n",
       "      <td>3.0</td>\n",
       "      <td>1278</td>\n",
       "      <td>1237.0</td>\n",
       "      <td>15.0</td>\n",
       "      <td>24.0</td>\n",
       "      <td>1.032310</td>\n",
       "      <td>2427129</td>\n",
       "      <td>0.967919</td>\n",
       "    </tr>\n",
       "    <tr>\n",
       "      <td>96</td>\n",
       "      <td>96</td>\n",
       "      <td>765</td>\n",
       "      <td>Medellín</td>\n",
       "      <td>2020-06-23</td>\n",
       "      <td>53</td>\n",
       "      <td>51.0</td>\n",
       "      <td>0.0</td>\n",
       "      <td>2.0</td>\n",
       "      <td>1331</td>\n",
       "      <td>1288.0</td>\n",
       "      <td>15.0</td>\n",
       "      <td>26.0</td>\n",
       "      <td>1.041471</td>\n",
       "      <td>2427129</td>\n",
       "      <td>0.967693</td>\n",
       "    </tr>\n",
       "    <tr>\n",
       "      <td>97</td>\n",
       "      <td>97</td>\n",
       "      <td>766</td>\n",
       "      <td>Medellín</td>\n",
       "      <td>2020-06-24</td>\n",
       "      <td>83</td>\n",
       "      <td>75.0</td>\n",
       "      <td>4.0</td>\n",
       "      <td>4.0</td>\n",
       "      <td>1414</td>\n",
       "      <td>1363.0</td>\n",
       "      <td>19.0</td>\n",
       "      <td>30.0</td>\n",
       "      <td>1.062359</td>\n",
       "      <td>2427129</td>\n",
       "      <td>0.963932</td>\n",
       "    </tr>\n",
       "    <tr>\n",
       "      <td>98</td>\n",
       "      <td>98</td>\n",
       "      <td>767</td>\n",
       "      <td>Medellín</td>\n",
       "      <td>2020-06-25</td>\n",
       "      <td>95</td>\n",
       "      <td>85.0</td>\n",
       "      <td>4.0</td>\n",
       "      <td>5.0</td>\n",
       "      <td>1509</td>\n",
       "      <td>1448.0</td>\n",
       "      <td>23.0</td>\n",
       "      <td>35.0</td>\n",
       "      <td>1.067185</td>\n",
       "      <td>2427129</td>\n",
       "      <td>0.959576</td>\n",
       "    </tr>\n",
       "    <tr>\n",
       "      <td>99</td>\n",
       "      <td>99</td>\n",
       "      <td>768</td>\n",
       "      <td>Medellín</td>\n",
       "      <td>2020-06-26</td>\n",
       "      <td>119</td>\n",
       "      <td>109.0</td>\n",
       "      <td>5.0</td>\n",
       "      <td>5.0</td>\n",
       "      <td>1628</td>\n",
       "      <td>1557.0</td>\n",
       "      <td>28.0</td>\n",
       "      <td>40.0</td>\n",
       "      <td>1.078860</td>\n",
       "      <td>2427129</td>\n",
       "      <td>0.956388</td>\n",
       "    </tr>\n",
       "  </tbody>\n",
       "</table>\n",
       "<p>100 rows × 15 columns</p>\n",
       "</div>"
      ],
      "text/plain": [
       "    Unnamed: 0  Unnamed: 0.1 ciudad_de_ubicaci_n fecha_reporte_web  \\\n",
       "0            0           669            Medellín        2020-03-09   \n",
       "1            1           670            Medellín        2020-03-11   \n",
       "2            2           671            Medellín        2020-03-14   \n",
       "3            3           672            Medellín        2020-03-15   \n",
       "4            4           673            Medellín        2020-03-19   \n",
       "..         ...           ...                 ...               ...   \n",
       "95          95           764            Medellín        2020-06-22   \n",
       "96          96           765            Medellín        2020-06-23   \n",
       "97          97           766            Medellín        2020-06-24   \n",
       "98          98           767            Medellín        2020-06-25   \n",
       "99          99           768            Medellín        2020-06-26   \n",
       "\n",
       "    conteo_confirmados  conteo_recuperado  conteo_fallecidos  casos_activos  \\\n",
       "0                    1                1.0                0.0            0.0   \n",
       "1                    2                2.0                0.0            0.0   \n",
       "2                    2                2.0                0.0            0.0   \n",
       "3                    1                1.0                0.0            0.0   \n",
       "4                    3                3.0                0.0            0.0   \n",
       "..                 ...                ...                ...            ...   \n",
       "95                  40               37.0                0.0            3.0   \n",
       "96                  53               51.0                0.0            2.0   \n",
       "97                  83               75.0                4.0            4.0   \n",
       "98                  95               85.0                4.0            5.0   \n",
       "99                 119              109.0                5.0            5.0   \n",
       "\n",
       "    acumulado_dia_confirmados  acumulado_dia_recuperado  \\\n",
       "0                           1                       1.0   \n",
       "1                           3                       3.0   \n",
       "2                           5                       5.0   \n",
       "3                           6                       6.0   \n",
       "4                           9                       9.0   \n",
       "..                        ...                       ...   \n",
       "95                       1278                    1237.0   \n",
       "96                       1331                    1288.0   \n",
       "97                       1414                    1363.0   \n",
       "98                       1509                    1448.0   \n",
       "99                       1628                    1557.0   \n",
       "\n",
       "    acumulado_dia_fallecidos  acumulado_dia_activos  tasa_contagio  \\\n",
       "0                        0.0                    0.0       1.700000   \n",
       "1                        0.0                    0.0       3.000000   \n",
       "2                        0.0                    0.0       1.666667   \n",
       "3                        0.0                    0.0       1.200000   \n",
       "4                        0.0                    0.0       1.500000   \n",
       "..                       ...                    ...            ...   \n",
       "95                      15.0                   24.0       1.032310   \n",
       "96                      15.0                   26.0       1.041471   \n",
       "97                      19.0                   30.0       1.062359   \n",
       "98                      23.0                   35.0       1.067185   \n",
       "99                      28.0                   40.0       1.078860   \n",
       "\n",
       "    Poblacion_total  tasa_recuperados  \n",
       "0           2427129          1.000000  \n",
       "1           2427129          1.000000  \n",
       "2           2427129          1.000000  \n",
       "3           2427129          1.000000  \n",
       "4           2427129          1.000000  \n",
       "..              ...               ...  \n",
       "95          2427129          0.967919  \n",
       "96          2427129          0.967693  \n",
       "97          2427129          0.963932  \n",
       "98          2427129          0.959576  \n",
       "99          2427129          0.956388  \n",
       "\n",
       "[100 rows x 15 columns]"
      ]
     },
     "execution_count": 99,
     "metadata": {},
     "output_type": "execute_result"
    }
   ],
   "source": [
    "df.head(100)"
   ]
  },
  {
   "cell_type": "code",
   "execution_count": 89,
   "metadata": {},
   "outputs": [
    {
     "data": {
      "text/plain": [
       "2427129"
      ]
     },
     "execution_count": 89,
     "metadata": {},
     "output_type": "execute_result"
    }
   ],
   "source": [
    "#Guardo mi población inicial en la variable población\n",
    "poblacion=df.at[0,'Poblacion_total']\n",
    "poblacion"
   ]
  },
  {
   "cell_type": "code",
   "execution_count": 90,
   "metadata": {},
   "outputs": [],
   "source": [
    "suceptibles_inicial=poblacion\n",
    "casos_inicial=1\n",
    "activos_inicial=1\n",
    "\n",
    "#Vectores para almacenar\n",
    "suceptibles=[]\n",
    "suceptibles = np.insert(suceptibles, 0, suceptibles_inicial, axis=0)\n",
    "confirmados=[]\n",
    "confirmados = np.insert(confirmados, 0, casos_inicial, axis=0)\n",
    "total_recuperados=[]\n",
    "total_recuperados = np.insert(total_recuperados, 0, 0, axis=0)\n",
    "total_muertos=[]\n",
    "total_muertos = np.insert(total_muertos, 0, 0, axis=0)\n",
    "contagios=[]\n",
    "contagios = np.insert(contagios, 0, 0, axis=0)\n",
    "recuperados=[]\n",
    "recuperados=np.insert(recuperados,0,0,axis=0)\n",
    "muertos=[]\n",
    "muertos=np.insert(muertos,0,0,axis=0)\n",
    "activos=[]\n",
    "activos = np.insert(activos, 0, casos_inicial, axis=0)\n",
    "tasa_contagio= pd.DataFrame(df['tasa_contagio']).to_numpy()\n",
    "tasa_contagio = np.insert(tasa_contagio, 0, 0., axis=0)\n",
    "tasa_recuperados= pd.DataFrame(df['tasa_recuperados']).to_numpy()\n",
    "tasa_recuperados = np.insert(tasa_recuperados, 0, 0., axis=0)\n"
   ]
  },
  {
   "cell_type": "code",
   "execution_count": 91,
   "metadata": {},
   "outputs": [],
   "source": [
    "#Promedio movil tasa_contagio para 300 días\n",
    "for i in range(1,300):\n",
    "  tasa_contagio=np.insert(tasa_contagio,len(tasa_contagio),\n",
    "                          np.average(tasa_contagio[len(tasa_contagio)-10:len(tasa_contagio)]),axis=0)\n",
    "\n",
    "#Promedio movil recuperados para 300 días\n",
    "for i in range(1,300):\n",
    "  tasa_recuperados=np.insert(tasa_recuperados,len(tasa_recuperados),\n",
    "                          np.average(tasa_recuperados[len(tasa_recuperados)-10:len(tasa_recuperados)]),axis=0)"
   ]
  },
  {
   "cell_type": "code",
   "execution_count": 92,
   "metadata": {},
   "outputs": [],
   "source": [
    "i=1\n",
    "\n",
    "for i in range (1,len(df)+300):\n",
    "  if activos[i-1]>=suceptibles[i-1]:\n",
    "    contagios=np.insert(contagios, i,0,axis=0)\n",
    "  else:\n",
    "    contagios=np.insert(contagios, i,(tasa_contagio[i]*activos[i-1]*suceptibles[i-1])/poblacion,axis=0)\n",
    "    confirmados=np.insert(confirmados, i,confirmados[i-1]+contagios[i],axis=0)\n",
    "    recuperados=np.insert(recuperados,i,activos[i-1]*tasa_recuperados[i],axis=0)\n",
    "    muertos=np.insert(muertos,i,activos[i-1]*0.005,axis=0)\n",
    "    activos=np.insert(activos,i,activos[i-1]+contagios[i]-recuperados[i]-muertos[i],axis=0)\n",
    "    suceptibles=np.insert(suceptibles,i,suceptibles[i-1]-contagios[i],axis=0)\n",
    "    total_recuperados=np.insert(total_recuperados,i,total_recuperados[i-1]+recuperados[i],axis=0)\n",
    "    total_muertos=np.insert(total_muertos,i,total_muertos[i-1]+muertos[i],axis=0)"
   ]
  },
  {
   "cell_type": "code",
   "execution_count": null,
   "metadata": {},
   "outputs": [],
   "source": [
    "contagios[]"
   ]
  },
  {
   "cell_type": "code",
   "execution_count": 93,
   "metadata": {},
   "outputs": [
    {
     "data": {
      "image/png": "[encoded data removed]",
      "text/plain": [
       "<Figure size 432x288 with 1 Axes>"
      ]
     },
     "metadata": {
      "needs_background": "light"
     },
     "output_type": "display_data"
    }
   ],
   "source": [
    "import numpy as np\n",
    "import matplotlib.pyplot as plt\n",
    "plt.plot(suceptibles) # plotting by columns\n",
    "#plt.ylim(0,3000000)\n",
    "#plt.plot(contagios) # plotting by columns\n",
    "plt.show()"
   ]
  },
  {
   "cell_type": "code",
   "execution_count": 94,
   "metadata": {},
   "outputs": [
    {
     "data": {
      "image/png": "[encoded data removed]",
      "text/plain": [
       "<Figure size 432x288 with 1 Axes>"
      ]
     },
     "metadata": {
      "needs_background": "light"
     },
     "output_type": "display_data"
    }
   ],
   "source": [
    "import numpy as np\n",
    "import matplotlib.pyplot as plt\n",
    "#plt.plot(suceptibles) # plotting by columns\n",
    "#plt.ylim(0,3000000)\n",
    "plt.plot(df['acumulado_dia_activos'])\n",
    "plt.plot(contagios) # plotting by columns\n",
    "plt.show()"
   ]
  },
  {
   "cell_type": "code",
   "execution_count": 97,
   "metadata": {},
   "outputs": [
    {
     "data": {
      "image/png": "[encoded data removed]",
      "text/plain": [
       "<Figure size 432x288 with 1 Axes>"
      ]
     },
     "metadata": {
      "needs_background": "light"
     },
     "output_type": "display_data"
    }
   ],
   "source": [
    "import numpy as np\n",
    "import matplotlib.pyplot as plt\n",
    "plt.plot(recuperados) # plotting by columns\n",
    "#plt.ylim(0,3000000)\n",
    "#plt.plot(contagios) # plotting by columns\n",
    "plt.show()"
   ]
  },
  {
   "cell_type": "code",
   "execution_count": 100,
   "metadata": {},
   "outputs": [
    {
     "data": {
      "text/plain": [
       "572.470046507166"
      ]
     },
     "execution_count": 100,
     "metadata": {},
     "output_type": "execute_result"
    }
   ],
   "source": [
    "recuperados[200]"
   ]
  },
  {
   "cell_type": "code",
   "execution_count": null,
   "metadata": {},
   "outputs": [],
   "source": []
  }
 ],
 "metadata": {
  "kernelspec": {
   "display_name": "Python 3",
   "language": "python",
   "name": "python3"
  }
 },
 "nbformat": 4,
 "nbformat_minor": 2
}
